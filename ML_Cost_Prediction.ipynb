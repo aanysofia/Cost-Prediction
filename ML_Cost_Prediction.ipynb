{
 "cells": [
  {
   "cell_type": "code",
   "execution_count": 31,
   "metadata": {},
   "outputs": [
    {
     "name": "stderr",
     "output_type": "stream",
     "text": [
      "/tmp/ipykernel_4396/146923546.py:6: DeprecationWarning:\n",
      "\n",
      "Please use `pearsonr` from the `scipy.stats` namespace, the `scipy.stats.stats` namespace is deprecated.\n",
      "\n"
     ]
    }
   ],
   "source": [
    "import pandas as pd\n",
    "import numpy as np\n",
    "\n",
    "from scipy.stats import skew\n",
    "from scipy import stats\n",
    "from scipy.stats.stats import pearsonr\n",
    "from scipy.stats import norm\n",
    "\n",
    "# Plot\n",
    "import matplotlib.pyplot as plt\n",
    "import seaborn as sns\n",
    "\n",
    "import plotly.express as px\n",
    "\n",
    "\n",
    "from matplotlib.ticker import PercentFormatter\n",
    "plt.rcParams.update({ \"figure.figsize\" : (8, 5),\"axes.facecolor\" : \"white\", \"axes.edgecolor\":  \"black\"})\n",
    "plt.rcParams[\"figure.facecolor\"]= \"w\"\n",
    "pd.plotting.register_matplotlib_converters()\n",
    "pd.set_option('display.float_format', lambda x: '%.3f' % x)\n",
    "pd.options.display.float_format = \"{:,.2f}\".format"
   ]
  },
  {
   "cell_type": "code",
   "execution_count": 40,
   "metadata": {},
   "outputs": [],
   "source": [
    "df_train = pd.read_csv(\"data/train_data.csv\", sep = \";\")"
   ]
  },
  {
   "cell_type": "code",
   "execution_count": 42,
   "metadata": {},
   "outputs": [
    {
     "data": {
      "text/html": [
       "<div>\n",
       "<style scoped>\n",
       "    .dataframe tbody tr th:only-of-type {\n",
       "        vertical-align: middle;\n",
       "    }\n",
       "\n",
       "    .dataframe tbody tr th {\n",
       "        vertical-align: top;\n",
       "    }\n",
       "\n",
       "    .dataframe thead th {\n",
       "        text-align: right;\n",
       "    }\n",
       "</style>\n",
       "<table border=\"1\" class=\"dataframe\">\n",
       "  <thead>\n",
       "    <tr style=\"text-align: right;\">\n",
       "      <th></th>\n",
       "      <th>origin_latitude</th>\n",
       "      <th>origin_longitude</th>\n",
       "      <th>destination_latitude</th>\n",
       "      <th>destination_longitude</th>\n",
       "      <th>weight</th>\n",
       "      <th>loading_meters</th>\n",
       "      <th>is_adr</th>\n",
       "      <th>shipping_date</th>\n",
       "      <th>cost</th>\n",
       "    </tr>\n",
       "  </thead>\n",
       "  <tbody>\n",
       "    <tr>\n",
       "      <th>0</th>\n",
       "      <td>27.22</td>\n",
       "      <td>105.59</td>\n",
       "      <td>26.91</td>\n",
       "      <td>108.67</td>\n",
       "      <td>0.51</td>\n",
       "      <td>0.20</td>\n",
       "      <td>True</td>\n",
       "      <td>2017-04-24</td>\n",
       "      <td>0.25</td>\n",
       "    </tr>\n",
       "    <tr>\n",
       "      <th>1</th>\n",
       "      <td>25.00</td>\n",
       "      <td>109.79</td>\n",
       "      <td>25.34</td>\n",
       "      <td>108.59</td>\n",
       "      <td>0.48</td>\n",
       "      <td>0.20</td>\n",
       "      <td>True</td>\n",
       "      <td>2017-07-27</td>\n",
       "      <td>0.25</td>\n",
       "    </tr>\n",
       "    <tr>\n",
       "      <th>2</th>\n",
       "      <td>27.10</td>\n",
       "      <td>105.60</td>\n",
       "      <td>29.35</td>\n",
       "      <td>106.54</td>\n",
       "      <td>0.48</td>\n",
       "      <td>0.20</td>\n",
       "      <td>True</td>\n",
       "      <td>2017-02-03</td>\n",
       "      <td>0.28</td>\n",
       "    </tr>\n",
       "    <tr>\n",
       "      <th>3</th>\n",
       "      <td>24.72</td>\n",
       "      <td>106.25</td>\n",
       "      <td>23.43</td>\n",
       "      <td>109.78</td>\n",
       "      <td>0.50</td>\n",
       "      <td>0.20</td>\n",
       "      <td>True</td>\n",
       "      <td>2017-04-03</td>\n",
       "      <td>0.28</td>\n",
       "    </tr>\n",
       "    <tr>\n",
       "      <th>4</th>\n",
       "      <td>22.33</td>\n",
       "      <td>108.37</td>\n",
       "      <td>29.38</td>\n",
       "      <td>111.50</td>\n",
       "      <td>0.48</td>\n",
       "      <td>0.20</td>\n",
       "      <td>True</td>\n",
       "      <td>2018-11-08</td>\n",
       "      <td>0.55</td>\n",
       "    </tr>\n",
       "    <tr>\n",
       "      <th>5</th>\n",
       "      <td>24.77</td>\n",
       "      <td>108.20</td>\n",
       "      <td>25.18</td>\n",
       "      <td>111.02</td>\n",
       "      <td>0.33</td>\n",
       "      <td>0.20</td>\n",
       "      <td>True</td>\n",
       "      <td>2019-01-14</td>\n",
       "      <td>0.35</td>\n",
       "    </tr>\n",
       "    <tr>\n",
       "      <th>6</th>\n",
       "      <td>25.76</td>\n",
       "      <td>109.61</td>\n",
       "      <td>27.30</td>\n",
       "      <td>105.00</td>\n",
       "      <td>0.47</td>\n",
       "      <td>0.09</td>\n",
       "      <td>True</td>\n",
       "      <td>2018-08-21</td>\n",
       "      <td>0.44</td>\n",
       "    </tr>\n",
       "    <tr>\n",
       "      <th>7</th>\n",
       "      <td>23.98</td>\n",
       "      <td>105.76</td>\n",
       "      <td>24.80</td>\n",
       "      <td>108.04</td>\n",
       "      <td>0.48</td>\n",
       "      <td>0.20</td>\n",
       "      <td>True</td>\n",
       "      <td>2017-03-28</td>\n",
       "      <td>0.31</td>\n",
       "    </tr>\n",
       "    <tr>\n",
       "      <th>8</th>\n",
       "      <td>27.93</td>\n",
       "      <td>107.13</td>\n",
       "      <td>27.78</td>\n",
       "      <td>109.51</td>\n",
       "      <td>0.50</td>\n",
       "      <td>0.20</td>\n",
       "      <td>True</td>\n",
       "      <td>2018-10-02</td>\n",
       "      <td>0.27</td>\n",
       "    </tr>\n",
       "    <tr>\n",
       "      <th>9</th>\n",
       "      <td>24.71</td>\n",
       "      <td>107.21</td>\n",
       "      <td>27.34</td>\n",
       "      <td>105.61</td>\n",
       "      <td>0.49</td>\n",
       "      <td>0.20</td>\n",
       "      <td>True</td>\n",
       "      <td>2017-03-14</td>\n",
       "      <td>0.26</td>\n",
       "    </tr>\n",
       "  </tbody>\n",
       "</table>\n",
       "</div>"
      ],
      "text/plain": [
       "   origin_latitude  origin_longitude  destination_latitude  \\\n",
       "0            27.22            105.59                 26.91   \n",
       "1            25.00            109.79                 25.34   \n",
       "2            27.10            105.60                 29.35   \n",
       "3            24.72            106.25                 23.43   \n",
       "4            22.33            108.37                 29.38   \n",
       "5            24.77            108.20                 25.18   \n",
       "6            25.76            109.61                 27.30   \n",
       "7            23.98            105.76                 24.80   \n",
       "8            27.93            107.13                 27.78   \n",
       "9            24.71            107.21                 27.34   \n",
       "\n",
       "   destination_longitude  weight  loading_meters  is_adr shipping_date  cost  \n",
       "0                 108.67    0.51            0.20    True    2017-04-24  0.25  \n",
       "1                 108.59    0.48            0.20    True    2017-07-27  0.25  \n",
       "2                 106.54    0.48            0.20    True    2017-02-03  0.28  \n",
       "3                 109.78    0.50            0.20    True    2017-04-03  0.28  \n",
       "4                 111.50    0.48            0.20    True    2018-11-08  0.55  \n",
       "5                 111.02    0.33            0.20    True    2019-01-14  0.35  \n",
       "6                 105.00    0.47            0.09    True    2018-08-21  0.44  \n",
       "7                 108.04    0.48            0.20    True    2017-03-28  0.31  \n",
       "8                 109.51    0.50            0.20    True    2018-10-02  0.27  \n",
       "9                 105.61    0.49            0.20    True    2017-03-14  0.26  "
      ]
     },
     "execution_count": 42,
     "metadata": {},
     "output_type": "execute_result"
    }
   ],
   "source": [
    "df_train.head(10)"
   ]
  },
  {
   "cell_type": "code",
   "execution_count": 43,
   "metadata": {},
   "outputs": [
    {
     "data": {
      "text/html": [
       "<div>\n",
       "<style scoped>\n",
       "    .dataframe tbody tr th:only-of-type {\n",
       "        vertical-align: middle;\n",
       "    }\n",
       "\n",
       "    .dataframe tbody tr th {\n",
       "        vertical-align: top;\n",
       "    }\n",
       "\n",
       "    .dataframe thead th {\n",
       "        text-align: right;\n",
       "    }\n",
       "</style>\n",
       "<table border=\"1\" class=\"dataframe\">\n",
       "  <thead>\n",
       "    <tr style=\"text-align: right;\">\n",
       "      <th></th>\n",
       "      <th>origin_latitude</th>\n",
       "      <th>origin_longitude</th>\n",
       "      <th>destination_latitude</th>\n",
       "      <th>destination_longitude</th>\n",
       "      <th>weight</th>\n",
       "      <th>loading_meters</th>\n",
       "      <th>is_adr</th>\n",
       "      <th>shipping_date</th>\n",
       "      <th>cost</th>\n",
       "    </tr>\n",
       "  </thead>\n",
       "  <tbody>\n",
       "    <tr>\n",
       "      <th>251150</th>\n",
       "      <td>25.14</td>\n",
       "      <td>111.73</td>\n",
       "      <td>26.10</td>\n",
       "      <td>106.74</td>\n",
       "      <td>0.32</td>\n",
       "      <td>0.20</td>\n",
       "      <td>True</td>\n",
       "      <td>2018-08-15</td>\n",
       "      <td>0.51</td>\n",
       "    </tr>\n",
       "    <tr>\n",
       "      <th>251151</th>\n",
       "      <td>24.00</td>\n",
       "      <td>110.82</td>\n",
       "      <td>24.98</td>\n",
       "      <td>104.39</td>\n",
       "      <td>0.50</td>\n",
       "      <td>0.20</td>\n",
       "      <td>True</td>\n",
       "      <td>2018-12-11</td>\n",
       "      <td>0.55</td>\n",
       "    </tr>\n",
       "    <tr>\n",
       "      <th>251152</th>\n",
       "      <td>26.95</td>\n",
       "      <td>105.52</td>\n",
       "      <td>24.66</td>\n",
       "      <td>110.34</td>\n",
       "      <td>0.49</td>\n",
       "      <td>0.21</td>\n",
       "      <td>True</td>\n",
       "      <td>2017-09-19</td>\n",
       "      <td>0.44</td>\n",
       "    </tr>\n",
       "    <tr>\n",
       "      <th>251153</th>\n",
       "      <td>26.91</td>\n",
       "      <td>108.67</td>\n",
       "      <td>27.30</td>\n",
       "      <td>105.00</td>\n",
       "      <td>0.49</td>\n",
       "      <td>0.06</td>\n",
       "      <td>True</td>\n",
       "      <td>2017-06-27</td>\n",
       "      <td>0.31</td>\n",
       "    </tr>\n",
       "    <tr>\n",
       "      <th>251154</th>\n",
       "      <td>22.45</td>\n",
       "      <td>107.36</td>\n",
       "      <td>24.63</td>\n",
       "      <td>107.41</td>\n",
       "      <td>0.25</td>\n",
       "      <td>0.20</td>\n",
       "      <td>True</td>\n",
       "      <td>2017-04-12</td>\n",
       "      <td>0.35</td>\n",
       "    </tr>\n",
       "  </tbody>\n",
       "</table>\n",
       "</div>"
      ],
      "text/plain": [
       "        origin_latitude  origin_longitude  destination_latitude  \\\n",
       "251150            25.14            111.73                 26.10   \n",
       "251151            24.00            110.82                 24.98   \n",
       "251152            26.95            105.52                 24.66   \n",
       "251153            26.91            108.67                 27.30   \n",
       "251154            22.45            107.36                 24.63   \n",
       "\n",
       "        destination_longitude  weight  loading_meters  is_adr shipping_date  \\\n",
       "251150                 106.74    0.32            0.20    True    2018-08-15   \n",
       "251151                 104.39    0.50            0.20    True    2018-12-11   \n",
       "251152                 110.34    0.49            0.21    True    2017-09-19   \n",
       "251153                 105.00    0.49            0.06    True    2017-06-27   \n",
       "251154                 107.41    0.25            0.20    True    2017-04-12   \n",
       "\n",
       "        cost  \n",
       "251150  0.51  \n",
       "251151  0.55  \n",
       "251152  0.44  \n",
       "251153  0.31  \n",
       "251154  0.35  "
      ]
     },
     "execution_count": 43,
     "metadata": {},
     "output_type": "execute_result"
    }
   ],
   "source": [
    "df_train.tail()"
   ]
  },
  {
   "cell_type": "code",
   "execution_count": 44,
   "metadata": {},
   "outputs": [
    {
     "data": {
      "text/plain": [
       "(251155, 9)"
      ]
     },
     "execution_count": 44,
     "metadata": {},
     "output_type": "execute_result"
    }
   ],
   "source": [
    "df_train.shape"
   ]
  },
  {
   "cell_type": "code",
   "execution_count": 45,
   "metadata": {},
   "outputs": [
    {
     "data": {
      "text/plain": [
       "Index(['origin_latitude', 'origin_longitude', 'destination_latitude',\n",
       "       'destination_longitude', 'weight', 'loading_meters', 'is_adr',\n",
       "       'shipping_date', 'cost'],\n",
       "      dtype='object')"
      ]
     },
     "execution_count": 45,
     "metadata": {},
     "output_type": "execute_result"
    }
   ],
   "source": [
    "df_train.columns"
   ]
  },
  {
   "cell_type": "code",
   "execution_count": 46,
   "metadata": {},
   "outputs": [
    {
     "data": {
      "text/plain": [
       "origin_latitude          0\n",
       "origin_longitude         0\n",
       "destination_latitude     0\n",
       "destination_longitude    0\n",
       "weight                   0\n",
       "loading_meters           0\n",
       "is_adr                   0\n",
       "shipping_date            0\n",
       "cost                     0\n",
       "dtype: int64"
      ]
     },
     "execution_count": 46,
     "metadata": {},
     "output_type": "execute_result"
    }
   ],
   "source": [
    "df_train.isnull().sum()"
   ]
  },
  {
   "cell_type": "code",
   "execution_count": 47,
   "metadata": {},
   "outputs": [
    {
     "name": "stdout",
     "output_type": "stream",
     "text": [
      "<class 'pandas.core.frame.DataFrame'>\n",
      "RangeIndex: 251155 entries, 0 to 251154\n",
      "Data columns (total 9 columns):\n",
      " #   Column                 Non-Null Count   Dtype  \n",
      "---  ------                 --------------   -----  \n",
      " 0   origin_latitude        251155 non-null  float64\n",
      " 1   origin_longitude       251155 non-null  float64\n",
      " 2   destination_latitude   251155 non-null  float64\n",
      " 3   destination_longitude  251155 non-null  float64\n",
      " 4   weight                 251155 non-null  float64\n",
      " 5   loading_meters         251155 non-null  float64\n",
      " 6   is_adr                 251155 non-null  bool   \n",
      " 7   shipping_date          251155 non-null  object \n",
      " 8   cost                   251155 non-null  float64\n",
      "dtypes: bool(1), float64(7), object(1)\n",
      "memory usage: 15.6+ MB\n"
     ]
    }
   ],
   "source": [
    "df_train.info()"
   ]
  },
  {
   "cell_type": "code",
   "execution_count": 48,
   "metadata": {},
   "outputs": [
    {
     "data": {
      "text/plain": [
       "origin_latitude          776\n",
       "origin_longitude         912\n",
       "destination_latitude     803\n",
       "destination_longitude    978\n",
       "weight                   582\n",
       "loading_meters           310\n",
       "is_adr                     1\n",
       "shipping_date            731\n",
       "cost                     979\n",
       "dtype: int64"
      ]
     },
     "execution_count": 48,
     "metadata": {},
     "output_type": "execute_result"
    }
   ],
   "source": [
    "df_train.nunique()"
   ]
  },
  {
   "cell_type": "code",
   "execution_count": 49,
   "metadata": {},
   "outputs": [
    {
     "data": {
      "text/html": [
       "<div>\n",
       "<style scoped>\n",
       "    .dataframe tbody tr th:only-of-type {\n",
       "        vertical-align: middle;\n",
       "    }\n",
       "\n",
       "    .dataframe tbody tr th {\n",
       "        vertical-align: top;\n",
       "    }\n",
       "\n",
       "    .dataframe thead th {\n",
       "        text-align: right;\n",
       "    }\n",
       "</style>\n",
       "<table border=\"1\" class=\"dataframe\">\n",
       "  <thead>\n",
       "    <tr style=\"text-align: right;\">\n",
       "      <th></th>\n",
       "      <th>origin_latitude</th>\n",
       "      <th>origin_longitude</th>\n",
       "      <th>destination_latitude</th>\n",
       "      <th>destination_longitude</th>\n",
       "      <th>weight</th>\n",
       "      <th>loading_meters</th>\n",
       "      <th>cost</th>\n",
       "    </tr>\n",
       "  </thead>\n",
       "  <tbody>\n",
       "    <tr>\n",
       "      <th>count</th>\n",
       "      <td>251,155.00</td>\n",
       "      <td>251,155.00</td>\n",
       "      <td>251,155.00</td>\n",
       "      <td>251,155.00</td>\n",
       "      <td>251,155.00</td>\n",
       "      <td>251,155.00</td>\n",
       "      <td>251,155.00</td>\n",
       "    </tr>\n",
       "    <tr>\n",
       "      <th>mean</th>\n",
       "      <td>25.70</td>\n",
       "      <td>108.93</td>\n",
       "      <td>25.58</td>\n",
       "      <td>108.97</td>\n",
       "      <td>0.41</td>\n",
       "      <td>0.17</td>\n",
       "      <td>0.34</td>\n",
       "    </tr>\n",
       "    <tr>\n",
       "      <th>std</th>\n",
       "      <td>1.78</td>\n",
       "      <td>2.09</td>\n",
       "      <td>1.98</td>\n",
       "      <td>2.30</td>\n",
       "      <td>0.13</td>\n",
       "      <td>0.06</td>\n",
       "      <td>0.13</td>\n",
       "    </tr>\n",
       "    <tr>\n",
       "      <th>min</th>\n",
       "      <td>21.71</td>\n",
       "      <td>102.97</td>\n",
       "      <td>21.65</td>\n",
       "      <td>103.00</td>\n",
       "      <td>0.05</td>\n",
       "      <td>0.00</td>\n",
       "      <td>0.02</td>\n",
       "    </tr>\n",
       "    <tr>\n",
       "      <th>25%</th>\n",
       "      <td>24.31</td>\n",
       "      <td>107.34</td>\n",
       "      <td>23.78</td>\n",
       "      <td>107.18</td>\n",
       "      <td>0.33</td>\n",
       "      <td>0.20</td>\n",
       "      <td>0.25</td>\n",
       "    </tr>\n",
       "    <tr>\n",
       "      <th>50%</th>\n",
       "      <td>25.65</td>\n",
       "      <td>108.89</td>\n",
       "      <td>25.64</td>\n",
       "      <td>109.40</td>\n",
       "      <td>0.47</td>\n",
       "      <td>0.20</td>\n",
       "      <td>0.33</td>\n",
       "    </tr>\n",
       "    <tr>\n",
       "      <th>75%</th>\n",
       "      <td>26.91</td>\n",
       "      <td>110.46</td>\n",
       "      <td>27.17</td>\n",
       "      <td>110.75</td>\n",
       "      <td>0.49</td>\n",
       "      <td>0.20</td>\n",
       "      <td>0.41</td>\n",
       "    </tr>\n",
       "    <tr>\n",
       "      <th>max</th>\n",
       "      <td>30.22</td>\n",
       "      <td>114.21</td>\n",
       "      <td>30.40</td>\n",
       "      <td>114.25</td>\n",
       "      <td>1.00</td>\n",
       "      <td>0.99</td>\n",
       "      <td>2.35</td>\n",
       "    </tr>\n",
       "  </tbody>\n",
       "</table>\n",
       "</div>"
      ],
      "text/plain": [
       "       origin_latitude  origin_longitude  destination_latitude  \\\n",
       "count       251,155.00        251,155.00            251,155.00   \n",
       "mean             25.70            108.93                 25.58   \n",
       "std               1.78              2.09                  1.98   \n",
       "min              21.71            102.97                 21.65   \n",
       "25%              24.31            107.34                 23.78   \n",
       "50%              25.65            108.89                 25.64   \n",
       "75%              26.91            110.46                 27.17   \n",
       "max              30.22            114.21                 30.40   \n",
       "\n",
       "       destination_longitude     weight  loading_meters       cost  \n",
       "count             251,155.00 251,155.00      251,155.00 251,155.00  \n",
       "mean                  108.97       0.41            0.17       0.34  \n",
       "std                     2.30       0.13            0.06       0.13  \n",
       "min                   103.00       0.05            0.00       0.02  \n",
       "25%                   107.18       0.33            0.20       0.25  \n",
       "50%                   109.40       0.47            0.20       0.33  \n",
       "75%                   110.75       0.49            0.20       0.41  \n",
       "max                   114.25       1.00            0.99       2.35  "
      ]
     },
     "execution_count": 49,
     "metadata": {},
     "output_type": "execute_result"
    }
   ],
   "source": [
    "df_train.describe()"
   ]
  },
  {
   "cell_type": "code",
   "execution_count": 50,
   "metadata": {},
   "outputs": [
    {
     "data": {
      "text/html": [
       "<div>\n",
       "<style scoped>\n",
       "    .dataframe tbody tr th:only-of-type {\n",
       "        vertical-align: middle;\n",
       "    }\n",
       "\n",
       "    .dataframe tbody tr th {\n",
       "        vertical-align: top;\n",
       "    }\n",
       "\n",
       "    .dataframe thead th {\n",
       "        text-align: right;\n",
       "    }\n",
       "</style>\n",
       "<table border=\"1\" class=\"dataframe\">\n",
       "  <thead>\n",
       "    <tr style=\"text-align: right;\">\n",
       "      <th></th>\n",
       "      <th>is_adr</th>\n",
       "    </tr>\n",
       "  </thead>\n",
       "  <tbody>\n",
       "    <tr>\n",
       "      <th>count</th>\n",
       "      <td>251155</td>\n",
       "    </tr>\n",
       "    <tr>\n",
       "      <th>unique</th>\n",
       "      <td>1</td>\n",
       "    </tr>\n",
       "    <tr>\n",
       "      <th>top</th>\n",
       "      <td>True</td>\n",
       "    </tr>\n",
       "    <tr>\n",
       "      <th>freq</th>\n",
       "      <td>251155</td>\n",
       "    </tr>\n",
       "  </tbody>\n",
       "</table>\n",
       "</div>"
      ],
      "text/plain": [
       "        is_adr\n",
       "count   251155\n",
       "unique       1\n",
       "top       True\n",
       "freq    251155"
      ]
     },
     "execution_count": 50,
     "metadata": {},
     "output_type": "execute_result"
    }
   ],
   "source": [
    "bool_features=df_train[['is_adr']]\n",
    "bool_features.describe()"
   ]
  },
  {
   "cell_type": "markdown",
   "metadata": {},
   "source": [
    "#### Changing the variable is_adr from Boolean values to integer"
   ]
  },
  {
   "cell_type": "markdown",
   "metadata": {},
   "source": [
    "Changing the boolean value to numeric will help for further visualization and analysis"
   ]
  },
  {
   "cell_type": "code",
   "execution_count": 51,
   "metadata": {},
   "outputs": [],
   "source": [
    "df_train[\"is_adr\"] = df_train[\"is_adr\"].astype(int)"
   ]
  },
  {
   "cell_type": "code",
   "execution_count": 52,
   "metadata": {},
   "outputs": [
    {
     "data": {
      "text/html": [
       "<div>\n",
       "<style scoped>\n",
       "    .dataframe tbody tr th:only-of-type {\n",
       "        vertical-align: middle;\n",
       "    }\n",
       "\n",
       "    .dataframe tbody tr th {\n",
       "        vertical-align: top;\n",
       "    }\n",
       "\n",
       "    .dataframe thead th {\n",
       "        text-align: right;\n",
       "    }\n",
       "</style>\n",
       "<table border=\"1\" class=\"dataframe\">\n",
       "  <thead>\n",
       "    <tr style=\"text-align: right;\">\n",
       "      <th></th>\n",
       "      <th>origin_latitude</th>\n",
       "      <th>origin_longitude</th>\n",
       "      <th>destination_latitude</th>\n",
       "      <th>destination_longitude</th>\n",
       "      <th>weight</th>\n",
       "      <th>loading_meters</th>\n",
       "      <th>is_adr</th>\n",
       "      <th>shipping_date</th>\n",
       "      <th>cost</th>\n",
       "    </tr>\n",
       "  </thead>\n",
       "  <tbody>\n",
       "    <tr>\n",
       "      <th>0</th>\n",
       "      <td>27.22</td>\n",
       "      <td>105.59</td>\n",
       "      <td>26.91</td>\n",
       "      <td>108.67</td>\n",
       "      <td>0.51</td>\n",
       "      <td>0.20</td>\n",
       "      <td>1</td>\n",
       "      <td>2017-04-24</td>\n",
       "      <td>0.25</td>\n",
       "    </tr>\n",
       "    <tr>\n",
       "      <th>1</th>\n",
       "      <td>25.00</td>\n",
       "      <td>109.79</td>\n",
       "      <td>25.34</td>\n",
       "      <td>108.59</td>\n",
       "      <td>0.48</td>\n",
       "      <td>0.20</td>\n",
       "      <td>1</td>\n",
       "      <td>2017-07-27</td>\n",
       "      <td>0.25</td>\n",
       "    </tr>\n",
       "    <tr>\n",
       "      <th>2</th>\n",
       "      <td>27.10</td>\n",
       "      <td>105.60</td>\n",
       "      <td>29.35</td>\n",
       "      <td>106.54</td>\n",
       "      <td>0.48</td>\n",
       "      <td>0.20</td>\n",
       "      <td>1</td>\n",
       "      <td>2017-02-03</td>\n",
       "      <td>0.28</td>\n",
       "    </tr>\n",
       "    <tr>\n",
       "      <th>3</th>\n",
       "      <td>24.72</td>\n",
       "      <td>106.25</td>\n",
       "      <td>23.43</td>\n",
       "      <td>109.78</td>\n",
       "      <td>0.50</td>\n",
       "      <td>0.20</td>\n",
       "      <td>1</td>\n",
       "      <td>2017-04-03</td>\n",
       "      <td>0.28</td>\n",
       "    </tr>\n",
       "  </tbody>\n",
       "</table>\n",
       "</div>"
      ],
      "text/plain": [
       "   origin_latitude  origin_longitude  destination_latitude  \\\n",
       "0            27.22            105.59                 26.91   \n",
       "1            25.00            109.79                 25.34   \n",
       "2            27.10            105.60                 29.35   \n",
       "3            24.72            106.25                 23.43   \n",
       "\n",
       "   destination_longitude  weight  loading_meters  is_adr shipping_date  cost  \n",
       "0                 108.67    0.51            0.20       1    2017-04-24  0.25  \n",
       "1                 108.59    0.48            0.20       1    2017-07-27  0.25  \n",
       "2                 106.54    0.48            0.20       1    2017-02-03  0.28  \n",
       "3                 109.78    0.50            0.20       1    2017-04-03  0.28  "
      ]
     },
     "execution_count": 52,
     "metadata": {},
     "output_type": "execute_result"
    }
   ],
   "source": [
    "df_train.head(4)"
   ]
  },
  {
   "cell_type": "markdown",
   "metadata": {},
   "source": [
    "Changing Time to datetime stamp"
   ]
  },
  {
   "cell_type": "code",
   "execution_count": 53,
   "metadata": {},
   "outputs": [],
   "source": [
    "df_train['shipping_date'] = pd.to_datetime(df_train['shipping_date'], format='%Y-%m-%d')"
   ]
  },
  {
   "cell_type": "code",
   "execution_count": 54,
   "metadata": {},
   "outputs": [
    {
     "data": {
      "text/html": [
       "<div>\n",
       "<style scoped>\n",
       "    .dataframe tbody tr th:only-of-type {\n",
       "        vertical-align: middle;\n",
       "    }\n",
       "\n",
       "    .dataframe tbody tr th {\n",
       "        vertical-align: top;\n",
       "    }\n",
       "\n",
       "    .dataframe thead th {\n",
       "        text-align: right;\n",
       "    }\n",
       "</style>\n",
       "<table border=\"1\" class=\"dataframe\">\n",
       "  <thead>\n",
       "    <tr style=\"text-align: right;\">\n",
       "      <th></th>\n",
       "      <th>origin_latitude</th>\n",
       "      <th>origin_longitude</th>\n",
       "      <th>destination_latitude</th>\n",
       "      <th>destination_longitude</th>\n",
       "      <th>weight</th>\n",
       "      <th>loading_meters</th>\n",
       "      <th>is_adr</th>\n",
       "      <th>shipping_date</th>\n",
       "      <th>cost</th>\n",
       "    </tr>\n",
       "  </thead>\n",
       "  <tbody>\n",
       "    <tr>\n",
       "      <th>0</th>\n",
       "      <td>27.22</td>\n",
       "      <td>105.59</td>\n",
       "      <td>26.91</td>\n",
       "      <td>108.67</td>\n",
       "      <td>0.51</td>\n",
       "      <td>0.20</td>\n",
       "      <td>1</td>\n",
       "      <td>2017-04-24</td>\n",
       "      <td>0.25</td>\n",
       "    </tr>\n",
       "    <tr>\n",
       "      <th>1</th>\n",
       "      <td>25.00</td>\n",
       "      <td>109.79</td>\n",
       "      <td>25.34</td>\n",
       "      <td>108.59</td>\n",
       "      <td>0.48</td>\n",
       "      <td>0.20</td>\n",
       "      <td>1</td>\n",
       "      <td>2017-07-27</td>\n",
       "      <td>0.25</td>\n",
       "    </tr>\n",
       "    <tr>\n",
       "      <th>2</th>\n",
       "      <td>27.10</td>\n",
       "      <td>105.60</td>\n",
       "      <td>29.35</td>\n",
       "      <td>106.54</td>\n",
       "      <td>0.48</td>\n",
       "      <td>0.20</td>\n",
       "      <td>1</td>\n",
       "      <td>2017-02-03</td>\n",
       "      <td>0.28</td>\n",
       "    </tr>\n",
       "    <tr>\n",
       "      <th>3</th>\n",
       "      <td>24.72</td>\n",
       "      <td>106.25</td>\n",
       "      <td>23.43</td>\n",
       "      <td>109.78</td>\n",
       "      <td>0.50</td>\n",
       "      <td>0.20</td>\n",
       "      <td>1</td>\n",
       "      <td>2017-04-03</td>\n",
       "      <td>0.28</td>\n",
       "    </tr>\n",
       "    <tr>\n",
       "      <th>4</th>\n",
       "      <td>22.33</td>\n",
       "      <td>108.37</td>\n",
       "      <td>29.38</td>\n",
       "      <td>111.50</td>\n",
       "      <td>0.48</td>\n",
       "      <td>0.20</td>\n",
       "      <td>1</td>\n",
       "      <td>2018-11-08</td>\n",
       "      <td>0.55</td>\n",
       "    </tr>\n",
       "    <tr>\n",
       "      <th>5</th>\n",
       "      <td>24.77</td>\n",
       "      <td>108.20</td>\n",
       "      <td>25.18</td>\n",
       "      <td>111.02</td>\n",
       "      <td>0.33</td>\n",
       "      <td>0.20</td>\n",
       "      <td>1</td>\n",
       "      <td>2019-01-14</td>\n",
       "      <td>0.35</td>\n",
       "    </tr>\n",
       "    <tr>\n",
       "      <th>6</th>\n",
       "      <td>25.76</td>\n",
       "      <td>109.61</td>\n",
       "      <td>27.30</td>\n",
       "      <td>105.00</td>\n",
       "      <td>0.47</td>\n",
       "      <td>0.09</td>\n",
       "      <td>1</td>\n",
       "      <td>2018-08-21</td>\n",
       "      <td>0.44</td>\n",
       "    </tr>\n",
       "    <tr>\n",
       "      <th>7</th>\n",
       "      <td>23.98</td>\n",
       "      <td>105.76</td>\n",
       "      <td>24.80</td>\n",
       "      <td>108.04</td>\n",
       "      <td>0.48</td>\n",
       "      <td>0.20</td>\n",
       "      <td>1</td>\n",
       "      <td>2017-03-28</td>\n",
       "      <td>0.31</td>\n",
       "    </tr>\n",
       "    <tr>\n",
       "      <th>8</th>\n",
       "      <td>27.93</td>\n",
       "      <td>107.13</td>\n",
       "      <td>27.78</td>\n",
       "      <td>109.51</td>\n",
       "      <td>0.50</td>\n",
       "      <td>0.20</td>\n",
       "      <td>1</td>\n",
       "      <td>2018-10-02</td>\n",
       "      <td>0.27</td>\n",
       "    </tr>\n",
       "    <tr>\n",
       "      <th>9</th>\n",
       "      <td>24.71</td>\n",
       "      <td>107.21</td>\n",
       "      <td>27.34</td>\n",
       "      <td>105.61</td>\n",
       "      <td>0.49</td>\n",
       "      <td>0.20</td>\n",
       "      <td>1</td>\n",
       "      <td>2017-03-14</td>\n",
       "      <td>0.26</td>\n",
       "    </tr>\n",
       "  </tbody>\n",
       "</table>\n",
       "</div>"
      ],
      "text/plain": [
       "   origin_latitude  origin_longitude  destination_latitude  \\\n",
       "0            27.22            105.59                 26.91   \n",
       "1            25.00            109.79                 25.34   \n",
       "2            27.10            105.60                 29.35   \n",
       "3            24.72            106.25                 23.43   \n",
       "4            22.33            108.37                 29.38   \n",
       "5            24.77            108.20                 25.18   \n",
       "6            25.76            109.61                 27.30   \n",
       "7            23.98            105.76                 24.80   \n",
       "8            27.93            107.13                 27.78   \n",
       "9            24.71            107.21                 27.34   \n",
       "\n",
       "   destination_longitude  weight  loading_meters  is_adr shipping_date  cost  \n",
       "0                 108.67    0.51            0.20       1    2017-04-24  0.25  \n",
       "1                 108.59    0.48            0.20       1    2017-07-27  0.25  \n",
       "2                 106.54    0.48            0.20       1    2017-02-03  0.28  \n",
       "3                 109.78    0.50            0.20       1    2017-04-03  0.28  \n",
       "4                 111.50    0.48            0.20       1    2018-11-08  0.55  \n",
       "5                 111.02    0.33            0.20       1    2019-01-14  0.35  \n",
       "6                 105.00    0.47            0.09       1    2018-08-21  0.44  \n",
       "7                 108.04    0.48            0.20       1    2017-03-28  0.31  \n",
       "8                 109.51    0.50            0.20       1    2018-10-02  0.27  \n",
       "9                 105.61    0.49            0.20       1    2017-03-14  0.26  "
      ]
     },
     "execution_count": 54,
     "metadata": {},
     "output_type": "execute_result"
    }
   ],
   "source": [
    "df_train.head(10)"
   ]
  },
  {
   "cell_type": "code",
   "execution_count": 26,
   "metadata": {},
   "outputs": [
    {
     "data": {
      "text/plain": [
       "Text(0.5, 1.0, 'Correlation heat map')"
      ]
     },
     "execution_count": 26,
     "metadata": {},
     "output_type": "execute_result"
    },
    {
     "data": {
      "image/png": "[encoded data removed]",
      "text/plain": [
       "<Figure size 720x720 with 2 Axes>"
      ]
     },
     "metadata": {
      "needs_background": "light"
     },
     "output_type": "display_data"
    }
   ],
   "source": [
    "plt.figure(figsize=(10,10))\n",
    "sns.heatmap(df_train.corr(),cbar=True,annot=True,cmap='Blues')\n",
    "plt.title('Correlation heat map', fontweight='bold')"
   ]
  },
  {
   "cell_type": "code",
   "execution_count": 55,
   "metadata": {},
   "outputs": [
    {
     "data": {
      "image/png": "[encoded data removed]",
      "text/plain": [
       "<Figure size 576x360 with 1 Axes>"
      ]
     },
     "metadata": {},
     "output_type": "display_data"
    }
   ],
   "source": [
    "fig, ax = plt.subplots()\n",
    "sns.lineplot(x=df_train['shipping_date'], y=df_train['cost'] , data=df_train, ax=ax)\n",
    "ax.set(title='Northern Hemisphere-wide sea ice coverage', ylabel=r'Extent sqkm');"
   ]
  },
  {
   "cell_type": "code",
   "execution_count": 30,
   "metadata": {},
   "outputs": [
    {
     "name": "stderr",
     "output_type": "stream",
     "text": [
      "/root/.pyenv/versions/3.9.4/lib/python3.9/site-packages/seaborn/distributions.py:2619: FutureWarning:\n",
      "\n",
      "`distplot` is a deprecated function and will be removed in a future version. Please adapt your code to use either `displot` (a figure-level function with similar flexibility) or `histplot` (an axes-level function for histograms).\n",
      "\n"
     ]
    },
    {
     "data": {
      "image/png": "[encoded data removed]",
      "text/plain": [
       "<Figure size 576x360 with 1 Axes>"
      ]
     },
     "metadata": {},
     "output_type": "display_data"
    }
   ],
   "source": [
    "sns.distplot(df_train['cost'] , fit=norm);"
   ]
  },
  {
   "cell_type": "code",
   "execution_count": 26,
   "metadata": {},
   "outputs": [
    {
     "data": {
      "text/plain": [
       "<seaborn.axisgrid.JointGrid at 0x7ffa96e55220>"
      ]
     },
     "execution_count": 26,
     "metadata": {},
     "output_type": "execute_result"
    },
    {
     "data": {
      "image/png": "[encoded data removed]",
      "text/plain": [
       "<Figure size 432x432 with 3 Axes>"
      ]
     },
     "metadata": {},
     "output_type": "display_data"
    }
   ],
   "source": [
    "# Weight vs Cost\n",
    "sns.jointplot(x=df_train['weight'], y=df_train['cost'], kind='reg')"
   ]
  },
  {
   "cell_type": "code",
   "execution_count": 33,
   "metadata": {},
   "outputs": [
    {
     "data": {
      "text/plain": [
       "<seaborn.axisgrid.JointGrid at 0x7ffa946ed6a0>"
      ]
     },
     "execution_count": 33,
     "metadata": {},
     "output_type": "execute_result"
    },
    {
     "data": {
      "image/png": "[encoded data removed]",
      "text/plain": [
       "<Figure size 432x432 with 3 Axes>"
      ]
     },
     "metadata": {},
     "output_type": "display_data"
    }
   ],
   "source": [
    "# Weight vs Cost\n",
    "sns.jointplot(x=df_train['loading_meters'], y=df_train['cost'], kind='reg')"
   ]
  }
 ],
 "metadata": {
  "kernelspec": {
   "display_name": "Python 3.9.4 64-bit ('3.9.4')",
   "language": "python",
   "name": "python3"
  },
  "language_info": {
   "codemirror_mode": {
    "name": "ipython",
    "version": 3
   },
   "file_extension": ".py",
   "mimetype": "text/x-python",
   "name": "python",
   "nbconvert_exporter": "python",
   "pygments_lexer": "ipython3",
   "version": "3.9.4"
  },
  "orig_nbformat": 4,
  "vscode": {
   "interpreter": {
    "hash": "d770ca272268c52cb633ea155ed0e9dd1b99be225d3d26a9d6c7d621d9800332"
   }
  }
 },
 "nbformat": 4,
 "nbformat_minor": 2
}
