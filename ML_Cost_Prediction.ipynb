{
 "cells": [
  {
   "cell_type": "markdown",
   "metadata": {},
   "source": [
    "### Prediction of Shipment Cost at DB Schenker"
   ]
  },
  {
   "cell_type": "markdown",
   "metadata": {},
   "source": [
    "**Introduction**"
   ]
  },
  {
   "cell_type": "markdown",
   "metadata": {},
   "source": [
    "DB Schenker is one of the world's leading provider of logistics services. It supports the global exchange of goods through worldwide air and sea freight, contract logistics and supply chain management. It pursue a future oriented data strategy and implement the data driven business models. \n",
    "The dispatchers receive shipments orders and find suitable carriers for the land transport. This relies on human decisions, interactions and many more parameters and hence complex. Price predition can be used as a guidline and can be predicted by using a trained AI/ML model."
   ]
  },
  {
   "cell_type": "markdown",
   "metadata": {},
   "source": [
    "**Goal of the Project**"
   ]
  },
  {
   "cell_type": "markdown",
   "metadata": {},
   "source": [
    "To build an accurate ML model to predict the shipping costs of the transport using the land transport data."
   ]
  },
  {
   "cell_type": "markdown",
   "metadata": {},
   "source": [
    "**The Problem and Matric Selection**"
   ]
  },
  {
   "cell_type": "markdown",
   "metadata": {},
   "source": [
    "Prediction of the shipping cost is a regression problem because cost depends on many other factors like location, weight of the shipped goods, length of the shipment, time of the shipment etc. Regression models investigate the relationship between the dependent variable (here it is cost) and independent variables. The matrics Mean absolute error, Mean squared error, and Root mean squared error can be used to solve this problem."
   ]
  },
  {
   "cell_type": "markdown",
   "metadata": {},
   "source": [
    "**Structure of the notebook**"
   ]
  },
  {
   "cell_type": "markdown",
   "metadata": {},
   "source": [
    "1. Loading the Data and Packages\n",
    "2. Exploring the data\n",
    "3. Cleaning Data\n",
    "4. Analyzing the test Variable (Cost)\n",
    "5. Feature Engineering\n",
    "6. Data Manipulation\n",
    "7. Modelling\n",
    "8. Model Selection\n",
    "9. Preprocessing of the given test data \n",
    "10. The prediction of the test data\n",
    "11. Summary\n",
    "12. Outlook"
   ]
  },
  {
   "cell_type": "markdown",
   "metadata": {},
   "source": [
    "### 1. Importing the Libraries"
   ]
  },
  {
   "cell_type": "code",
   "execution_count": 1,
   "metadata": {},
   "outputs": [
    {
     "name": "stderr",
     "output_type": "stream",
     "text": [
      "/tmp/ipykernel_550/3608387684.py:6: DeprecationWarning: Please use `pearsonr` from the `scipy.stats` namespace, the `scipy.stats.stats` namespace is deprecated.\n",
      "  from scipy.stats.stats import pearsonr\n"
     ]
    }
   ],
   "source": [
    "import pandas as pd # data handling\n",
    "import numpy as np\n",
    "\n",
    "from scipy.stats import skew\n",
    "from scipy import stats\n",
    "from scipy.stats.stats import pearsonr \n",
    "from scipy.stats import norm\n",
    "import geopy.distance\n",
    "\n",
    "# Modelling\n",
    "from sklearn.preprocessing import StandardScaler\n",
    "from sklearn.linear_model import LinearRegression\n",
    "from sklearn.metrics import r2_score\n",
    "from sklearn.metrics import mean_absolute_error, mean_squared_error\n",
    "from math import sqrt\n",
    "from sklearn.model_selection import train_test_split\n",
    "\n",
    "# Plot\n",
    "import matplotlib.pyplot as plt\n",
    "import seaborn as sns\n",
    "import plotly.express as px\n",
    "from matplotlib.ticker import PercentFormatter\n",
    "plt.rcParams.update({ \"figure.figsize\" : (8, 5),\"axes.facecolor\" : \"white\", \"axes.edgecolor\":  \"black\"})\n",
    "plt.rcParams[\"figure.facecolor\"]= \"w\"\n",
    "pd.plotting.register_matplotlib_converters()\n",
    "pd.set_option('display.float_format', lambda x: '%.3f' % x)\n",
    "pd.options.display.float_format = \"{:,.2f}\".format\n",
    "import warnings\n",
    "warnings.filterwarnings('ignore')"
   ]
  },
  {
   "cell_type": "markdown",
   "metadata": {},
   "source": [
    "**Loading the data**"
   ]
  },
  {
   "cell_type": "code",
   "execution_count": 2,
   "metadata": {},
   "outputs": [],
   "source": [
    "df_train = pd.read_csv(\"data/train_data.csv\", sep = \";\")"
   ]
  },
  {
   "cell_type": "markdown",
   "metadata": {},
   "source": [
    "### 2. Exploring the data"
   ]
  },
  {
   "cell_type": "code",
   "execution_count": 3,
   "metadata": {},
   "outputs": [
    {
     "data": {
      "text/html": [
       "<div>\n",
       "<style scoped>\n",
       "    .dataframe tbody tr th:only-of-type {\n",
       "        vertical-align: middle;\n",
       "    }\n",
       "\n",
       "    .dataframe tbody tr th {\n",
       "        vertical-align: top;\n",
       "    }\n",
       "\n",
       "    .dataframe thead th {\n",
       "        text-align: right;\n",
       "    }\n",
       "</style>\n",
       "<table border=\"1\" class=\"dataframe\">\n",
       "  <thead>\n",
       "    <tr style=\"text-align: right;\">\n",
       "      <th></th>\n",
       "      <th>origin_latitude</th>\n",
       "      <th>origin_longitude</th>\n",
       "      <th>destination_latitude</th>\n",
       "      <th>destination_longitude</th>\n",
       "      <th>weight</th>\n",
       "      <th>loading_meters</th>\n",
       "      <th>is_adr</th>\n",
       "      <th>shipping_date</th>\n",
       "      <th>cost</th>\n",
       "    </tr>\n",
       "  </thead>\n",
       "  <tbody>\n",
       "    <tr>\n",
       "      <th>0</th>\n",
       "      <td>27.22</td>\n",
       "      <td>105.59</td>\n",
       "      <td>26.91</td>\n",
       "      <td>108.67</td>\n",
       "      <td>0.51</td>\n",
       "      <td>0.20</td>\n",
       "      <td>True</td>\n",
       "      <td>2017-04-24</td>\n",
       "      <td>0.25</td>\n",
       "    </tr>\n",
       "    <tr>\n",
       "      <th>1</th>\n",
       "      <td>25.00</td>\n",
       "      <td>109.79</td>\n",
       "      <td>25.34</td>\n",
       "      <td>108.59</td>\n",
       "      <td>0.48</td>\n",
       "      <td>0.20</td>\n",
       "      <td>True</td>\n",
       "      <td>2017-07-27</td>\n",
       "      <td>0.25</td>\n",
       "    </tr>\n",
       "  </tbody>\n",
       "</table>\n",
       "</div>"
      ],
      "text/plain": [
       "   origin_latitude  origin_longitude  destination_latitude  \\\n",
       "0            27.22            105.59                 26.91   \n",
       "1            25.00            109.79                 25.34   \n",
       "\n",
       "   destination_longitude  weight  loading_meters  is_adr shipping_date  cost  \n",
       "0                 108.67    0.51            0.20    True    2017-04-24  0.25  \n",
       "1                 108.59    0.48            0.20    True    2017-07-27  0.25  "
      ]
     },
     "execution_count": 3,
     "metadata": {},
     "output_type": "execute_result"
    }
   ],
   "source": [
    "# reading the data set\n",
    "df_train.head(2)"
   ]
  },
  {
   "cell_type": "code",
   "execution_count": 4,
   "metadata": {},
   "outputs": [
    {
     "data": {
      "text/plain": [
       "(251155, 9)"
      ]
     },
     "execution_count": 4,
     "metadata": {},
     "output_type": "execute_result"
    }
   ],
   "source": [
    "#Checking for how many rows and columns\n",
    "df_train.shape"
   ]
  },
  {
   "cell_type": "markdown",
   "metadata": {},
   "source": [
    "There are 251155 rows and 9 columns in the dataframe."
   ]
  },
  {
   "cell_type": "code",
   "execution_count": 5,
   "metadata": {},
   "outputs": [
    {
     "data": {
      "text/plain": [
       "Index(['origin_latitude', 'origin_longitude', 'destination_latitude',\n",
       "       'destination_longitude', 'weight', 'loading_meters', 'is_adr',\n",
       "       'shipping_date', 'cost'],\n",
       "      dtype='object')"
      ]
     },
     "execution_count": 5,
     "metadata": {},
     "output_type": "execute_result"
    }
   ],
   "source": [
    "#Checking for the column names\n",
    "df_train.columns"
   ]
  },
  {
   "cell_type": "code",
   "execution_count": 6,
   "metadata": {},
   "outputs": [
    {
     "data": {
      "text/plain": [
       "origin_latitude          0\n",
       "origin_longitude         0\n",
       "destination_latitude     0\n",
       "destination_longitude    0\n",
       "weight                   0\n",
       "loading_meters           0\n",
       "is_adr                   0\n",
       "shipping_date            0\n",
       "cost                     0\n",
       "dtype: int64"
      ]
     },
     "execution_count": 6,
     "metadata": {},
     "output_type": "execute_result"
    }
   ],
   "source": [
    "#Checking for null values in each column\n",
    "df_train.isnull().sum()"
   ]
  },
  {
   "cell_type": "markdown",
   "metadata": {},
   "source": [
    "The above results shows that there are no null values."
   ]
  },
  {
   "cell_type": "code",
   "execution_count": 7,
   "metadata": {},
   "outputs": [
    {
     "name": "stdout",
     "output_type": "stream",
     "text": [
      "<class 'pandas.core.frame.DataFrame'>\n",
      "RangeIndex: 251155 entries, 0 to 251154\n",
      "Data columns (total 9 columns):\n",
      " #   Column                 Non-Null Count   Dtype  \n",
      "---  ------                 --------------   -----  \n",
      " 0   origin_latitude        251155 non-null  float64\n",
      " 1   origin_longitude       251155 non-null  float64\n",
      " 2   destination_latitude   251155 non-null  float64\n",
      " 3   destination_longitude  251155 non-null  float64\n",
      " 4   weight                 251155 non-null  float64\n",
      " 5   loading_meters         251155 non-null  float64\n",
      " 6   is_adr                 251155 non-null  bool   \n",
      " 7   shipping_date          251155 non-null  object \n",
      " 8   cost                   251155 non-null  float64\n",
      "dtypes: bool(1), float64(7), object(1)\n",
      "memory usage: 15.6+ MB\n"
     ]
    }
   ],
   "source": [
    "# Checking for type of data present in the dataframe\n",
    "df_train.info()"
   ]
  },
  {
   "cell_type": "markdown",
   "metadata": {},
   "source": [
    "The information shows that except the variable \"is_adr\" (is it a dangerous good?), all other variables are in float form."
   ]
  },
  {
   "cell_type": "code",
   "execution_count": 8,
   "metadata": {},
   "outputs": [
    {
     "data": {
      "text/plain": [
       "origin_latitude          776\n",
       "origin_longitude         912\n",
       "destination_latitude     803\n",
       "destination_longitude    978\n",
       "weight                   582\n",
       "loading_meters           310\n",
       "is_adr                     1\n",
       "shipping_date            731\n",
       "cost                     979\n",
       "dtype: int64"
      ]
     },
     "execution_count": 8,
     "metadata": {},
     "output_type": "execute_result"
    }
   ],
   "source": [
    "# Checking for unique values\n",
    "df_train.nunique()"
   ]
  },
  {
   "cell_type": "code",
   "execution_count": 9,
   "metadata": {},
   "outputs": [
    {
     "data": {
      "text/html": [
       "<div>\n",
       "<style scoped>\n",
       "    .dataframe tbody tr th:only-of-type {\n",
       "        vertical-align: middle;\n",
       "    }\n",
       "\n",
       "    .dataframe tbody tr th {\n",
       "        vertical-align: top;\n",
       "    }\n",
       "\n",
       "    .dataframe thead th {\n",
       "        text-align: right;\n",
       "    }\n",
       "</style>\n",
       "<table border=\"1\" class=\"dataframe\">\n",
       "  <thead>\n",
       "    <tr style=\"text-align: right;\">\n",
       "      <th></th>\n",
       "      <th>origin_latitude</th>\n",
       "      <th>origin_longitude</th>\n",
       "      <th>destination_latitude</th>\n",
       "      <th>destination_longitude</th>\n",
       "      <th>weight</th>\n",
       "      <th>loading_meters</th>\n",
       "      <th>cost</th>\n",
       "    </tr>\n",
       "  </thead>\n",
       "  <tbody>\n",
       "    <tr>\n",
       "      <th>count</th>\n",
       "      <td>251,155.00</td>\n",
       "      <td>251,155.00</td>\n",
       "      <td>251,155.00</td>\n",
       "      <td>251,155.00</td>\n",
       "      <td>251,155.00</td>\n",
       "      <td>251,155.00</td>\n",
       "      <td>251,155.00</td>\n",
       "    </tr>\n",
       "    <tr>\n",
       "      <th>mean</th>\n",
       "      <td>25.70</td>\n",
       "      <td>108.93</td>\n",
       "      <td>25.58</td>\n",
       "      <td>108.97</td>\n",
       "      <td>0.41</td>\n",
       "      <td>0.17</td>\n",
       "      <td>0.34</td>\n",
       "    </tr>\n",
       "    <tr>\n",
       "      <th>std</th>\n",
       "      <td>1.78</td>\n",
       "      <td>2.09</td>\n",
       "      <td>1.98</td>\n",
       "      <td>2.30</td>\n",
       "      <td>0.13</td>\n",
       "      <td>0.06</td>\n",
       "      <td>0.13</td>\n",
       "    </tr>\n",
       "    <tr>\n",
       "      <th>min</th>\n",
       "      <td>21.71</td>\n",
       "      <td>102.97</td>\n",
       "      <td>21.65</td>\n",
       "      <td>103.00</td>\n",
       "      <td>0.05</td>\n",
       "      <td>0.00</td>\n",
       "      <td>0.02</td>\n",
       "    </tr>\n",
       "    <tr>\n",
       "      <th>25%</th>\n",
       "      <td>24.31</td>\n",
       "      <td>107.34</td>\n",
       "      <td>23.78</td>\n",
       "      <td>107.18</td>\n",
       "      <td>0.33</td>\n",
       "      <td>0.20</td>\n",
       "      <td>0.25</td>\n",
       "    </tr>\n",
       "    <tr>\n",
       "      <th>50%</th>\n",
       "      <td>25.65</td>\n",
       "      <td>108.89</td>\n",
       "      <td>25.64</td>\n",
       "      <td>109.40</td>\n",
       "      <td>0.47</td>\n",
       "      <td>0.20</td>\n",
       "      <td>0.33</td>\n",
       "    </tr>\n",
       "    <tr>\n",
       "      <th>75%</th>\n",
       "      <td>26.91</td>\n",
       "      <td>110.46</td>\n",
       "      <td>27.17</td>\n",
       "      <td>110.75</td>\n",
       "      <td>0.49</td>\n",
       "      <td>0.20</td>\n",
       "      <td>0.41</td>\n",
       "    </tr>\n",
       "    <tr>\n",
       "      <th>max</th>\n",
       "      <td>30.22</td>\n",
       "      <td>114.21</td>\n",
       "      <td>30.40</td>\n",
       "      <td>114.25</td>\n",
       "      <td>1.00</td>\n",
       "      <td>0.99</td>\n",
       "      <td>2.35</td>\n",
       "    </tr>\n",
       "  </tbody>\n",
       "</table>\n",
       "</div>"
      ],
      "text/plain": [
       "       origin_latitude  origin_longitude  destination_latitude  \\\n",
       "count       251,155.00        251,155.00            251,155.00   \n",
       "mean             25.70            108.93                 25.58   \n",
       "std               1.78              2.09                  1.98   \n",
       "min              21.71            102.97                 21.65   \n",
       "25%              24.31            107.34                 23.78   \n",
       "50%              25.65            108.89                 25.64   \n",
       "75%              26.91            110.46                 27.17   \n",
       "max              30.22            114.21                 30.40   \n",
       "\n",
       "       destination_longitude     weight  loading_meters       cost  \n",
       "count             251,155.00 251,155.00      251,155.00 251,155.00  \n",
       "mean                  108.97       0.41            0.17       0.34  \n",
       "std                     2.30       0.13            0.06       0.13  \n",
       "min                   103.00       0.05            0.00       0.02  \n",
       "25%                   107.18       0.33            0.20       0.25  \n",
       "50%                   109.40       0.47            0.20       0.33  \n",
       "75%                   110.75       0.49            0.20       0.41  \n",
       "max                   114.25       1.00            0.99       2.35  "
      ]
     },
     "execution_count": 9,
     "metadata": {},
     "output_type": "execute_result"
    }
   ],
   "source": [
    "# Finding the descriptive statistics\n",
    "df_train.describe()"
   ]
  },
  {
   "cell_type": "markdown",
   "metadata": {},
   "source": [
    "The mean value of the cost is 0.34. "
   ]
  },
  {
   "cell_type": "code",
   "execution_count": 10,
   "metadata": {},
   "outputs": [
    {
     "data": {
      "text/html": [
       "<div>\n",
       "<style scoped>\n",
       "    .dataframe tbody tr th:only-of-type {\n",
       "        vertical-align: middle;\n",
       "    }\n",
       "\n",
       "    .dataframe tbody tr th {\n",
       "        vertical-align: top;\n",
       "    }\n",
       "\n",
       "    .dataframe thead th {\n",
       "        text-align: right;\n",
       "    }\n",
       "</style>\n",
       "<table border=\"1\" class=\"dataframe\">\n",
       "  <thead>\n",
       "    <tr style=\"text-align: right;\">\n",
       "      <th></th>\n",
       "      <th>is_adr</th>\n",
       "    </tr>\n",
       "  </thead>\n",
       "  <tbody>\n",
       "    <tr>\n",
       "      <th>count</th>\n",
       "      <td>251155</td>\n",
       "    </tr>\n",
       "    <tr>\n",
       "      <th>unique</th>\n",
       "      <td>1</td>\n",
       "    </tr>\n",
       "    <tr>\n",
       "      <th>top</th>\n",
       "      <td>True</td>\n",
       "    </tr>\n",
       "    <tr>\n",
       "      <th>freq</th>\n",
       "      <td>251155</td>\n",
       "    </tr>\n",
       "  </tbody>\n",
       "</table>\n",
       "</div>"
      ],
      "text/plain": [
       "        is_adr\n",
       "count   251155\n",
       "unique       1\n",
       "top       True\n",
       "freq    251155"
      ]
     },
     "execution_count": 10,
     "metadata": {},
     "output_type": "execute_result"
    }
   ],
   "source": [
    "bool_features=df_train[['is_adr']]\n",
    "bool_features.describe()"
   ]
  },
  {
   "cell_type": "markdown",
   "metadata": {},
   "source": [
    "### 3. Cleaning the data"
   ]
  },
  {
   "cell_type": "markdown",
   "metadata": {},
   "source": [
    "**Changing the variable \"is_adr\" from Boolean values to integer**"
   ]
  },
  {
   "cell_type": "markdown",
   "metadata": {},
   "source": [
    "Changing the boolean value to numeric will help for further visualization and analysis"
   ]
  },
  {
   "cell_type": "code",
   "execution_count": 11,
   "metadata": {},
   "outputs": [],
   "source": [
    "df_train[\"is_adr\"] = df_train[\"is_adr\"].astype(int)"
   ]
  },
  {
   "cell_type": "markdown",
   "metadata": {},
   "source": [
    "**Changing Time to datetime stamp**"
   ]
  },
  {
   "cell_type": "code",
   "execution_count": 12,
   "metadata": {},
   "outputs": [],
   "source": [
    "df_train['shipping_date'] = pd.to_datetime(df_train['shipping_date'], format='%Y-%m-%d')"
   ]
  },
  {
   "cell_type": "markdown",
   "metadata": {},
   "source": [
    "**Extracting year, month, and day from the date column**"
   ]
  },
  {
   "cell_type": "code",
   "execution_count": 13,
   "metadata": {},
   "outputs": [],
   "source": [
    "df_train = df_train.assign(\n",
    "    timestamp = lambda x: pd.to_datetime(x['shipping_date']), \n",
    "    year = lambda x: x['timestamp'].dt.year,\n",
    "    month = lambda x: x['timestamp'].dt.month,\n",
    "    day = lambda x: x['timestamp'].dt.day,\n",
    "    dayofweek = lambda x: x['shipping_date'].dt.dayofweek\n",
    ")"
   ]
  },
  {
   "cell_type": "code",
   "execution_count": 14,
   "metadata": {},
   "outputs": [
    {
     "data": {
      "text/html": [
       "<div>\n",
       "<style scoped>\n",
       "    .dataframe tbody tr th:only-of-type {\n",
       "        vertical-align: middle;\n",
       "    }\n",
       "\n",
       "    .dataframe tbody tr th {\n",
       "        vertical-align: top;\n",
       "    }\n",
       "\n",
       "    .dataframe thead th {\n",
       "        text-align: right;\n",
       "    }\n",
       "</style>\n",
       "<table border=\"1\" class=\"dataframe\">\n",
       "  <thead>\n",
       "    <tr style=\"text-align: right;\">\n",
       "      <th></th>\n",
       "      <th>origin_latitude</th>\n",
       "      <th>origin_longitude</th>\n",
       "      <th>destination_latitude</th>\n",
       "      <th>destination_longitude</th>\n",
       "      <th>weight</th>\n",
       "      <th>loading_meters</th>\n",
       "      <th>is_adr</th>\n",
       "      <th>shipping_date</th>\n",
       "      <th>cost</th>\n",
       "      <th>timestamp</th>\n",
       "      <th>year</th>\n",
       "      <th>month</th>\n",
       "      <th>day</th>\n",
       "      <th>dayofweek</th>\n",
       "    </tr>\n",
       "  </thead>\n",
       "  <tbody>\n",
       "    <tr>\n",
       "      <th>0</th>\n",
       "      <td>27.22</td>\n",
       "      <td>105.59</td>\n",
       "      <td>26.91</td>\n",
       "      <td>108.67</td>\n",
       "      <td>0.51</td>\n",
       "      <td>0.20</td>\n",
       "      <td>1</td>\n",
       "      <td>2017-04-24</td>\n",
       "      <td>0.25</td>\n",
       "      <td>2017-04-24</td>\n",
       "      <td>2017</td>\n",
       "      <td>4</td>\n",
       "      <td>24</td>\n",
       "      <td>0</td>\n",
       "    </tr>\n",
       "    <tr>\n",
       "      <th>1</th>\n",
       "      <td>25.00</td>\n",
       "      <td>109.79</td>\n",
       "      <td>25.34</td>\n",
       "      <td>108.59</td>\n",
       "      <td>0.48</td>\n",
       "      <td>0.20</td>\n",
       "      <td>1</td>\n",
       "      <td>2017-07-27</td>\n",
       "      <td>0.25</td>\n",
       "      <td>2017-07-27</td>\n",
       "      <td>2017</td>\n",
       "      <td>7</td>\n",
       "      <td>27</td>\n",
       "      <td>3</td>\n",
       "    </tr>\n",
       "  </tbody>\n",
       "</table>\n",
       "</div>"
      ],
      "text/plain": [
       "   origin_latitude  origin_longitude  destination_latitude  \\\n",
       "0            27.22            105.59                 26.91   \n",
       "1            25.00            109.79                 25.34   \n",
       "\n",
       "   destination_longitude  weight  loading_meters  is_adr shipping_date  cost  \\\n",
       "0                 108.67    0.51            0.20       1    2017-04-24  0.25   \n",
       "1                 108.59    0.48            0.20       1    2017-07-27  0.25   \n",
       "\n",
       "   timestamp  year  month  day  dayofweek  \n",
       "0 2017-04-24  2017      4   24          0  \n",
       "1 2017-07-27  2017      7   27          3  "
      ]
     },
     "execution_count": 14,
     "metadata": {},
     "output_type": "execute_result"
    }
   ],
   "source": [
    "df_train.head(2)"
   ]
  },
  {
   "cell_type": "markdown",
   "metadata": {},
   "source": [
    "### 4. Analysing the data"
   ]
  },
  {
   "cell_type": "markdown",
   "metadata": {},
   "source": [
    "Due to the uploading issues to github, the geographical plots are saved in the image folder."
   ]
  },
  {
   "cell_type": "markdown",
   "metadata": {},
   "source": [
    "Where is the Origin of shipment (Country) takeplace?"
   ]
  },
  {
   "cell_type": "code",
   "execution_count": 15,
   "metadata": {},
   "outputs": [],
   "source": [
    "# # Geographical Plot\n",
    "# fig = px.scatter_mapbox(df_train, lat=\"origin_latitude\", lon=\"origin_longitude\", color=\"cost\", center={'lat':25.47, 'lon':108.51},\n",
    "#                         zoom=4, height=400, width=800, title=\"Cost in Origin place\")\n",
    "# # earth background\n",
    "# fig.update_layout(mapbox_style=\"open-street-map\")\n",
    "# fig.update_layout(margin={\"r\":0,\"t\":30,\"l\":0,\"b\":50})\n",
    "\n",
    "# fig.show()\n",
    "# #fig.write_image(\"images/map1.png\")"
   ]
  },
  {
   "cell_type": "markdown",
   "metadata": {},
   "source": [
    "The geographical map shows that the origin of the shipment is obtained from China."
   ]
  },
  {
   "cell_type": "markdown",
   "metadata": {},
   "source": [
    "Where is the destination of shipment (Country) takeplace?"
   ]
  },
  {
   "cell_type": "code",
   "execution_count": 16,
   "metadata": {},
   "outputs": [],
   "source": [
    "# fig = px.scatter_mapbox(df_train, lat=\"destination_latitude\", lon=\"destination_longitude\", color=\"cost\", center={'lat':25.47, 'lon':108.51},\n",
    "#                         zoom=4, height=400, width=800, title=\"Cost in Delivery place\")\n",
    "# # earth background\n",
    "\n",
    "# fig.update_layout(mapbox_style=\"open-street-map\")\n",
    "# fig.update_layout(margin={\"r\":0,\"t\":30,\"l\":0,\"b\":50})\n",
    "# fig.show()\n",
    "# #fig.write_image(\"images/map2.png\")"
   ]
  },
  {
   "cell_type": "markdown",
   "metadata": {},
   "source": [
    "This geographical map also shows that the destination of the shipment is in China."
   ]
  },
  {
   "cell_type": "markdown",
   "metadata": {},
   "source": [
    "**Exploring the relationship between variables using pair plots** "
   ]
  },
  {
   "cell_type": "code",
   "execution_count": 17,
   "metadata": {},
   "outputs": [],
   "source": [
    "#sns.pairplot(df_train)"
   ]
  },
  {
   "cell_type": "markdown",
   "metadata": {},
   "source": [
    "The pairplot shows the variations in each plot. The plots are in matrix format where the row name represents x axis and column name represents the y axis. The main-diagonal subplots are the univariate histograms (distributions) for each attribute. Pair plot is used to understand the best set of features to explain a relationship between two variables or the  separated clusters. \n"
   ]
  },
  {
   "cell_type": "markdown",
   "metadata": {},
   "source": []
  },
  {
   "cell_type": "markdown",
   "metadata": {},
   "source": [
    "**Daily Shipping Cost**"
   ]
  },
  {
   "cell_type": "code",
   "execution_count": 18,
   "metadata": {},
   "outputs": [],
   "source": [
    "# fig, ax = plt.subplots()\n",
    "# sns.lineplot(x=df_train['shipping_date'], y=df_train['cost'] , data=df_train, ax=ax)\n",
    "# ax.set(title='Shipping Date', ylabel=r'Cost');"
   ]
  },
  {
   "cell_type": "markdown",
   "metadata": {},
   "source": [
    "From the above graph the daily shipping cost shows that most of the value falls between 0.3 and 0.35. The lowest cost was recorded in October 2017 and the highest cost recorded in March 2017."
   ]
  },
  {
   "cell_type": "markdown",
   "metadata": {},
   "source": [
    "**Yearly Shipping Cost**"
   ]
  },
  {
   "cell_type": "code",
   "execution_count": 19,
   "metadata": {},
   "outputs": [],
   "source": [
    "# fig, ax = plt.subplots()\n",
    "# sns.lineplot(x=df_train['year'], y=df_train['cost'] , data=df_train, ax=ax)\n",
    "# ax.set(title='Shipping Year', ylabel=r'Cost');"
   ]
  },
  {
   "cell_type": "markdown",
   "metadata": {},
   "source": [
    "Yearly shipping cost shows that there is an increase in the cost every year and the cost is maximum in 2019"
   ]
  },
  {
   "cell_type": "markdown",
   "metadata": {},
   "source": [
    "**Monthly Shipping Cost**"
   ]
  },
  {
   "cell_type": "code",
   "execution_count": 20,
   "metadata": {},
   "outputs": [],
   "source": [
    "# fig, ax = plt.subplots()\n",
    "# sns.lineplot(x=df_train['month'], y=df_train['cost'] , data=df_train, ax=ax)\n",
    "# ax.set(title='Shipping Month', ylabel=r'Cost');"
   ]
  },
  {
   "cell_type": "markdown",
   "metadata": {},
   "source": [
    "Monthly cost shows there is an increase from January to December but it is not continuous. February has the lowest cost."
   ]
  },
  {
   "cell_type": "markdown",
   "metadata": {},
   "source": [
    "**Weekly Shipping Cost**"
   ]
  },
  {
   "cell_type": "code",
   "execution_count": 21,
   "metadata": {},
   "outputs": [],
   "source": [
    "# fig, ax = plt.subplots()\n",
    "# sns.lineplot(x=df_train['dayofweek'], y=df_train['cost'] , data=df_train, ax=ax)\n",
    "# ax.set(title='Shipping day', ylabel=r'Cost');"
   ]
  },
  {
   "cell_type": "markdown",
   "metadata": {},
   "source": [
    "The weekly shipment cost shows that Sunday has the highest cost and thursday has the lowest. "
   ]
  },
  {
   "cell_type": "markdown",
   "metadata": {},
   "source": [
    "**Comparing Weight and Cost**"
   ]
  },
  {
   "cell_type": "code",
   "execution_count": 22,
   "metadata": {},
   "outputs": [],
   "source": [
    "# # Weight vs Cost\n",
    "# sns.jointplot(x=df_train['weight'], y=df_train['cost'], kind='reg')"
   ]
  },
  {
   "cell_type": "markdown",
   "metadata": {},
   "source": [
    "The plot shows that most of the shipments are between 0.05 - 0.6 kg approaximately and there is not much linearity between the weight and cost. "
   ]
  },
  {
   "cell_type": "markdown",
   "metadata": {},
   "source": [
    "**Comparing Length of the shipment to Cost**"
   ]
  },
  {
   "cell_type": "code",
   "execution_count": 23,
   "metadata": {},
   "outputs": [],
   "source": [
    "# sns.scatterplot(data=df_train, x=\"loading_meters\", y=\"cost\")"
   ]
  },
  {
   "cell_type": "markdown",
   "metadata": {},
   "source": [
    "The scatter plot of the distance between the length of the shipment and cost also shows that there is no linear relationship between them. But there are some concrete values approaximately around 0.01, 0.2, 0.39, 0.59 and 0.79. This shows that at these values costs are increasing."
   ]
  },
  {
   "cell_type": "markdown",
   "metadata": {},
   "source": [
    "### Checking for outliers"
   ]
  },
  {
   "cell_type": "markdown",
   "metadata": {},
   "source": [
    "From the given description about the, data it was written that cost values are normalized. That means the cost values are normally distributed and there will not be any outliers. "
   ]
  },
  {
   "cell_type": "markdown",
   "metadata": {},
   "source": [
    "**Distribution of Cost**"
   ]
  },
  {
   "cell_type": "code",
   "execution_count": 24,
   "metadata": {},
   "outputs": [
    {
     "data": {
      "image/png": "[encoded data removed]",
      "text/plain": [
       "<Figure size 576x360 with 1 Axes>"
      ]
     },
     "metadata": {},
     "output_type": "display_data"
    }
   ],
   "source": [
    "sns.distplot(df_train['cost'], fit=norm);"
   ]
  },
  {
   "cell_type": "markdown",
   "metadata": {},
   "source": [
    "The distribution of cost curve shows that the cost variable is slightly right skewed. The price ranges from 0.01 to 2.4 approaximately. This means that outliers are present."
   ]
  },
  {
   "cell_type": "markdown",
   "metadata": {},
   "source": [
    "**Histogram**"
   ]
  },
  {
   "cell_type": "code",
   "execution_count": 25,
   "metadata": {},
   "outputs": [
    {
     "data": {
      "image/png": "[encoded data removed]",
      "text/plain": [
       "<Figure size 648x432 with 1 Axes>"
      ]
     },
     "metadata": {},
     "output_type": "display_data"
    }
   ],
   "source": [
    "fig, ax = plt.subplots(figsize=(9, 6))\n",
    "sns.histplot(x='cost', data=df_train, ax=ax)\n",
    "ax.set(title='Distribution of cost', xlabel='cost');"
   ]
  },
  {
   "cell_type": "markdown",
   "metadata": {},
   "source": [
    "**Boxplot**"
   ]
  },
  {
   "cell_type": "code",
   "execution_count": 26,
   "metadata": {},
   "outputs": [
    {
     "data": {
      "image/png": "[encoded data removed]",
      "text/plain": [
       "<Figure size 648x432 with 1 Axes>"
      ]
     },
     "metadata": {},
     "output_type": "display_data"
    }
   ],
   "source": [
    "fig, ax = plt.subplots(figsize=(9, 6))\n",
    "sns.boxplot(x='cost', data=df_train, ax=ax)\n",
    "ax.set(title='Distribution of cost', xlabel='cost');"
   ]
  },
  {
   "cell_type": "markdown",
   "metadata": {},
   "source": [
    "The histogram and box plot clearly shows the outliers."
   ]
  },
  {
   "cell_type": "code",
   "execution_count": 27,
   "metadata": {},
   "outputs": [
    {
     "data": {
      "text/html": [
       "<div>\n",
       "<style scoped>\n",
       "    .dataframe tbody tr th:only-of-type {\n",
       "        vertical-align: middle;\n",
       "    }\n",
       "\n",
       "    .dataframe tbody tr th {\n",
       "        vertical-align: top;\n",
       "    }\n",
       "\n",
       "    .dataframe thead th {\n",
       "        text-align: right;\n",
       "    }\n",
       "</style>\n",
       "<table border=\"1\" class=\"dataframe\">\n",
       "  <thead>\n",
       "    <tr style=\"text-align: right;\">\n",
       "      <th></th>\n",
       "      <th>origin_latitude</th>\n",
       "      <th>origin_longitude</th>\n",
       "      <th>destination_latitude</th>\n",
       "      <th>destination_longitude</th>\n",
       "      <th>weight</th>\n",
       "      <th>loading_meters</th>\n",
       "      <th>is_adr</th>\n",
       "      <th>shipping_date</th>\n",
       "      <th>cost</th>\n",
       "      <th>timestamp</th>\n",
       "      <th>year</th>\n",
       "      <th>month</th>\n",
       "      <th>day</th>\n",
       "      <th>dayofweek</th>\n",
       "    </tr>\n",
       "  </thead>\n",
       "  <tbody>\n",
       "    <tr>\n",
       "      <th>116</th>\n",
       "      <td>27.21</td>\n",
       "      <td>105.53</td>\n",
       "      <td>28.49</td>\n",
       "      <td>112.72</td>\n",
       "      <td>0.48</td>\n",
       "      <td>0.00</td>\n",
       "      <td>1</td>\n",
       "      <td>2017-03-30</td>\n",
       "      <td>1.04</td>\n",
       "      <td>2017-03-30</td>\n",
       "      <td>2017</td>\n",
       "      <td>3</td>\n",
       "      <td>30</td>\n",
       "      <td>3</td>\n",
       "    </tr>\n",
       "    <tr>\n",
       "      <th>2100</th>\n",
       "      <td>27.54</td>\n",
       "      <td>106.96</td>\n",
       "      <td>28.29</td>\n",
       "      <td>111.05</td>\n",
       "      <td>0.48</td>\n",
       "      <td>0.20</td>\n",
       "      <td>1</td>\n",
       "      <td>2017-11-01</td>\n",
       "      <td>2.16</td>\n",
       "      <td>2017-11-01</td>\n",
       "      <td>2017</td>\n",
       "      <td>11</td>\n",
       "      <td>1</td>\n",
       "      <td>2</td>\n",
       "    </tr>\n",
       "    <tr>\n",
       "      <th>2661</th>\n",
       "      <td>26.80</td>\n",
       "      <td>107.51</td>\n",
       "      <td>25.95</td>\n",
       "      <td>113.01</td>\n",
       "      <td>0.45</td>\n",
       "      <td>0.20</td>\n",
       "      <td>1</td>\n",
       "      <td>2017-06-12</td>\n",
       "      <td>1.73</td>\n",
       "      <td>2017-06-12</td>\n",
       "      <td>2017</td>\n",
       "      <td>6</td>\n",
       "      <td>12</td>\n",
       "      <td>0</td>\n",
       "    </tr>\n",
       "    <tr>\n",
       "      <th>2698</th>\n",
       "      <td>26.42</td>\n",
       "      <td>105.34</td>\n",
       "      <td>29.57</td>\n",
       "      <td>111.95</td>\n",
       "      <td>0.48</td>\n",
       "      <td>0.20</td>\n",
       "      <td>1</td>\n",
       "      <td>2018-12-17</td>\n",
       "      <td>1.14</td>\n",
       "      <td>2018-12-17</td>\n",
       "      <td>2018</td>\n",
       "      <td>12</td>\n",
       "      <td>17</td>\n",
       "      <td>0</td>\n",
       "    </tr>\n",
       "    <tr>\n",
       "      <th>3059</th>\n",
       "      <td>24.02</td>\n",
       "      <td>106.39</td>\n",
       "      <td>24.83</td>\n",
       "      <td>111.58</td>\n",
       "      <td>0.48</td>\n",
       "      <td>0.20</td>\n",
       "      <td>1</td>\n",
       "      <td>2018-09-05</td>\n",
       "      <td>1.07</td>\n",
       "      <td>2018-09-05</td>\n",
       "      <td>2018</td>\n",
       "      <td>9</td>\n",
       "      <td>5</td>\n",
       "      <td>2</td>\n",
       "    </tr>\n",
       "    <tr>\n",
       "      <th>...</th>\n",
       "      <td>...</td>\n",
       "      <td>...</td>\n",
       "      <td>...</td>\n",
       "      <td>...</td>\n",
       "      <td>...</td>\n",
       "      <td>...</td>\n",
       "      <td>...</td>\n",
       "      <td>...</td>\n",
       "      <td>...</td>\n",
       "      <td>...</td>\n",
       "      <td>...</td>\n",
       "      <td>...</td>\n",
       "      <td>...</td>\n",
       "      <td>...</td>\n",
       "    </tr>\n",
       "    <tr>\n",
       "      <th>247742</th>\n",
       "      <td>26.91</td>\n",
       "      <td>108.67</td>\n",
       "      <td>26.31</td>\n",
       "      <td>111.93</td>\n",
       "      <td>0.47</td>\n",
       "      <td>0.08</td>\n",
       "      <td>1</td>\n",
       "      <td>2017-02-16</td>\n",
       "      <td>1.08</td>\n",
       "      <td>2017-02-16</td>\n",
       "      <td>2017</td>\n",
       "      <td>2</td>\n",
       "      <td>16</td>\n",
       "      <td>3</td>\n",
       "    </tr>\n",
       "    <tr>\n",
       "      <th>247919</th>\n",
       "      <td>26.42</td>\n",
       "      <td>105.34</td>\n",
       "      <td>26.71</td>\n",
       "      <td>113.87</td>\n",
       "      <td>0.48</td>\n",
       "      <td>0.20</td>\n",
       "      <td>1</td>\n",
       "      <td>2018-08-24</td>\n",
       "      <td>1.38</td>\n",
       "      <td>2018-08-24</td>\n",
       "      <td>2018</td>\n",
       "      <td>8</td>\n",
       "      <td>24</td>\n",
       "      <td>4</td>\n",
       "    </tr>\n",
       "    <tr>\n",
       "      <th>249120</th>\n",
       "      <td>23.86</td>\n",
       "      <td>108.01</td>\n",
       "      <td>27.30</td>\n",
       "      <td>110.16</td>\n",
       "      <td>0.45</td>\n",
       "      <td>0.20</td>\n",
       "      <td>1</td>\n",
       "      <td>2018-11-29</td>\n",
       "      <td>1.42</td>\n",
       "      <td>2018-11-29</td>\n",
       "      <td>2018</td>\n",
       "      <td>11</td>\n",
       "      <td>29</td>\n",
       "      <td>3</td>\n",
       "    </tr>\n",
       "    <tr>\n",
       "      <th>249586</th>\n",
       "      <td>28.49</td>\n",
       "      <td>110.13</td>\n",
       "      <td>22.73</td>\n",
       "      <td>108.46</td>\n",
       "      <td>0.10</td>\n",
       "      <td>0.30</td>\n",
       "      <td>1</td>\n",
       "      <td>2018-05-25</td>\n",
       "      <td>1.07</td>\n",
       "      <td>2018-05-25</td>\n",
       "      <td>2018</td>\n",
       "      <td>5</td>\n",
       "      <td>25</td>\n",
       "      <td>4</td>\n",
       "    </tr>\n",
       "    <tr>\n",
       "      <th>250096</th>\n",
       "      <td>28.23</td>\n",
       "      <td>111.82</td>\n",
       "      <td>24.00</td>\n",
       "      <td>109.73</td>\n",
       "      <td>0.34</td>\n",
       "      <td>0.20</td>\n",
       "      <td>1</td>\n",
       "      <td>2017-12-08</td>\n",
       "      <td>1.06</td>\n",
       "      <td>2017-12-08</td>\n",
       "      <td>2017</td>\n",
       "      <td>12</td>\n",
       "      <td>8</td>\n",
       "      <td>4</td>\n",
       "    </tr>\n",
       "  </tbody>\n",
       "</table>\n",
       "<p>168 rows × 14 columns</p>\n",
       "</div>"
      ],
      "text/plain": [
       "        origin_latitude  origin_longitude  destination_latitude  \\\n",
       "116               27.21            105.53                 28.49   \n",
       "2100              27.54            106.96                 28.29   \n",
       "2661              26.80            107.51                 25.95   \n",
       "2698              26.42            105.34                 29.57   \n",
       "3059              24.02            106.39                 24.83   \n",
       "...                 ...               ...                   ...   \n",
       "247742            26.91            108.67                 26.31   \n",
       "247919            26.42            105.34                 26.71   \n",
       "249120            23.86            108.01                 27.30   \n",
       "249586            28.49            110.13                 22.73   \n",
       "250096            28.23            111.82                 24.00   \n",
       "\n",
       "        destination_longitude  weight  loading_meters  is_adr shipping_date  \\\n",
       "116                    112.72    0.48            0.00       1    2017-03-30   \n",
       "2100                   111.05    0.48            0.20       1    2017-11-01   \n",
       "2661                   113.01    0.45            0.20       1    2017-06-12   \n",
       "2698                   111.95    0.48            0.20       1    2018-12-17   \n",
       "3059                   111.58    0.48            0.20       1    2018-09-05   \n",
       "...                       ...     ...             ...     ...           ...   \n",
       "247742                 111.93    0.47            0.08       1    2017-02-16   \n",
       "247919                 113.87    0.48            0.20       1    2018-08-24   \n",
       "249120                 110.16    0.45            0.20       1    2018-11-29   \n",
       "249586                 108.46    0.10            0.30       1    2018-05-25   \n",
       "250096                 109.73    0.34            0.20       1    2017-12-08   \n",
       "\n",
       "        cost  timestamp  year  month  day  dayofweek  \n",
       "116     1.04 2017-03-30  2017      3   30          3  \n",
       "2100    2.16 2017-11-01  2017     11    1          2  \n",
       "2661    1.73 2017-06-12  2017      6   12          0  \n",
       "2698    1.14 2018-12-17  2018     12   17          0  \n",
       "3059    1.07 2018-09-05  2018      9    5          2  \n",
       "...      ...        ...   ...    ...  ...        ...  \n",
       "247742  1.08 2017-02-16  2017      2   16          3  \n",
       "247919  1.38 2018-08-24  2018      8   24          4  \n",
       "249120  1.42 2018-11-29  2018     11   29          3  \n",
       "249586  1.07 2018-05-25  2018      5   25          4  \n",
       "250096  1.06 2017-12-08  2017     12    8          4  \n",
       "\n",
       "[168 rows x 14 columns]"
      ]
     },
     "execution_count": 27,
     "metadata": {},
     "output_type": "execute_result"
    }
   ],
   "source": [
    "# Checking the count of outliers\n",
    "df_train.loc[df_train['cost'] > 1]"
   ]
  },
  {
   "cell_type": "markdown",
   "metadata": {},
   "source": [
    "There are 168 rows outliers are there in the dataframe."
   ]
  },
  {
   "cell_type": "markdown",
   "metadata": {},
   "source": [
    "#### Removing the outliers"
   ]
  },
  {
   "cell_type": "code",
   "execution_count": 28,
   "metadata": {},
   "outputs": [],
   "source": [
    "df2_train = df_train.loc[df_train['cost'] <= 1]"
   ]
  },
  {
   "cell_type": "code",
   "execution_count": 29,
   "metadata": {},
   "outputs": [
    {
     "data": {
      "text/plain": [
       "(250987, 14)"
      ]
     },
     "execution_count": 29,
     "metadata": {},
     "output_type": "execute_result"
    }
   ],
   "source": [
    "df2_train.shape"
   ]
  },
  {
   "cell_type": "code",
   "execution_count": 30,
   "metadata": {},
   "outputs": [],
   "source": [
    "# fig, ax = plt.subplots(figsize=(9, 6))\n",
    "# sns.boxplot(x='cost', data=df3_train, ax=ax)\n",
    "# ax.set(title='Distribution of cost', xlabel='cost');"
   ]
  },
  {
   "cell_type": "markdown",
   "metadata": {},
   "source": [
    "Made a new data set without the outliers and it is used for further analysis."
   ]
  },
  {
   "cell_type": "code",
   "execution_count": 31,
   "metadata": {},
   "outputs": [],
   "source": [
    "df2_train.drop([\"timestamp\", \"shipping_date\"], axis=1, inplace=True)"
   ]
  },
  {
   "cell_type": "markdown",
   "metadata": {},
   "source": [
    "### Baseline Model"
   ]
  },
  {
   "cell_type": "markdown",
   "metadata": {},
   "source": [
    "A simple linear model is taken as baseline model. The train/test split was taken as 70/30. The baseline model is to begin with simple featurs and excluded the shipping date from the raw data given."
   ]
  },
  {
   "cell_type": "code",
   "execution_count": 105,
   "metadata": {},
   "outputs": [],
   "source": [
    "df_train_baseline = pd.read_csv(\"data/train_data.csv\", sep = \";\")"
   ]
  },
  {
   "cell_type": "code",
   "execution_count": 106,
   "metadata": {},
   "outputs": [],
   "source": [
    "df_train_baseline.drop(\"shipping_date\", axis=1, inplace=True)"
   ]
  },
  {
   "cell_type": "code",
   "execution_count": 110,
   "metadata": {},
   "outputs": [
    {
     "name": "stdout",
     "output_type": "stream",
     "text": [
      "Original dataset  --->  (251155, 7) (251155,) \n",
      "Training set  --->  (175808, 7) (175808,) \n",
      "Testing set   --->  (75347, 7)  (75347,)\n"
     ]
    }
   ],
   "source": [
    "y = df_train_baseline['cost']\n",
    "X = df_train_baseline.drop('cost', axis=1)\n",
    "X_train, X_test, y_train, y_test = train_test_split(X, y, test_size=0.3, random_state=42)\n",
    "\n",
    "print('Original dataset  ---> ',X.shape,y.shape,'\\nTraining set  ---> ', X_train.shape,y_train.shape,\n",
    "'\\nTesting set   ---> ', X_test.shape,'', y_test.shape)"
   ]
  },
  {
   "cell_type": "code",
   "execution_count": 112,
   "metadata": {},
   "outputs": [],
   "source": [
    "reg = LinearRegression()\n",
    "model_base = reg.fit(X_train,y_train)\n",
    "y_pred=model_base.predict(X_test)"
   ]
  },
  {
   "cell_type": "code",
   "execution_count": 113,
   "metadata": {},
   "outputs": [
    {
     "data": {
      "text/plain": [
       "0.12097082768804648"
      ]
     },
     "execution_count": 113,
     "metadata": {},
     "output_type": "execute_result"
    }
   ],
   "source": [
    "#intercept\n",
    "reg.intercept_"
   ]
  },
  {
   "cell_type": "code",
   "execution_count": 114,
   "metadata": {},
   "outputs": [
    {
     "data": {
      "text/plain": [
       "array([ 0.00286729, -0.0011517 ,  0.00430083,  0.00157465, -0.04612708,\n",
       "        0.0713727 ,  0.        ])"
      ]
     },
     "execution_count": 114,
     "metadata": {},
     "output_type": "execute_result"
    }
   ],
   "source": [
    "# Coefficients\n",
    "reg.coef_"
   ]
  },
  {
   "cell_type": "code",
   "execution_count": 117,
   "metadata": {},
   "outputs": [],
   "source": [
    "#Prediction\n",
    "y_pred = reg.predict(X_test)"
   ]
  },
  {
   "cell_type": "code",
   "execution_count": 120,
   "metadata": {},
   "outputs": [
    {
     "name": "stdout",
     "output_type": "stream",
     "text": [
      "        Actual  Predicted\n",
      "231756    0.31       0.34\n",
      "100391    0.37       0.37\n",
      "25222     0.53       0.33\n",
      "115610    0.36       0.35\n",
      "66738     0.51       0.35\n",
      "...        ...        ...\n",
      "174895    0.19       0.34\n",
      "167094    0.43       0.35\n",
      "102846    0.24       0.37\n",
      "246188    0.17       0.34\n",
      "137573    0.36       0.35\n",
      "\n",
      "[75347 rows x 2 columns]\n"
     ]
    }
   ],
   "source": [
    "results_base = pd.DataFrame({'Actual': y_test, 'Predicted': y_pred})\n",
    "print(results_base)"
   ]
  },
  {
   "cell_type": "code",
   "execution_count": 119,
   "metadata": {},
   "outputs": [
    {
     "name": "stdout",
     "output_type": "stream",
     "text": [
      "Mean absolute error: 0.0996\n",
      "Mean squared error: 0.0166\n",
      "Root mean squared error: 0.1287\n"
     ]
    }
   ],
   "source": [
    "mae = mean_absolute_error(y_test, y_pred)\n",
    "mse = mean_squared_error(y_test, y_pred)\n",
    "rmse = np.sqrt(mse)\n",
    "\n",
    "print(f'Mean absolute error: {mae:.4f}')\n",
    "print(f'Mean squared error: {mse:.4f}')\n",
    "print(f'Root mean squared error: {rmse:.4f}')"
   ]
  },
  {
   "cell_type": "code",
   "execution_count": 121,
   "metadata": {},
   "outputs": [
    {
     "data": {
      "image/png": "[encoded data removed]",
      "text/plain": [
       "<Figure size 576x360 with 1 Axes>"
      ]
     },
     "metadata": {},
     "output_type": "display_data"
    }
   ],
   "source": [
    "fig, ax = plt.subplots()\n",
    "sns.scatterplot(x=results_base['Actual'], y=results_base['Predicted'] , data=results_base, ax=ax)\n",
    "ax = sns.regplot(x=results_base['Actual'], y=results_base['Predicted'] , data=results_base)\n",
    "ax.set(title='Baseline Linear Regression- Predicted vs Actual');"
   ]
  },
  {
   "cell_type": "code",
   "execution_count": null,
   "metadata": {},
   "outputs": [],
   "source": []
  },
  {
   "cell_type": "markdown",
   "metadata": {},
   "source": [
    "### 5. Feature Engineering"
   ]
  },
  {
   "cell_type": "markdown",
   "metadata": {},
   "source": [
    "As the distance between the origin of shipment and destination of shipment can influence the cost of shipping, to create a new column called \"Distance\" which is the difference of longitude and lattitude of origin of shipment between that of the destination would be good."
   ]
  },
  {
   "cell_type": "code",
   "execution_count": 43,
   "metadata": {},
   "outputs": [],
   "source": [
    "df2_train['Distance']=[round(geopy.distance.distance((df2_train.origin_latitude[i], df2_train.origin_longitude[i]),(df2_train.destination_latitude[i], df2_train.destination_longitude[i])).m,2) for i in df2_train.index]"
   ]
  },
  {
   "cell_type": "code",
   "execution_count": 44,
   "metadata": {},
   "outputs": [
    {
     "data": {
      "text/html": [
       "<div>\n",
       "<style scoped>\n",
       "    .dataframe tbody tr th:only-of-type {\n",
       "        vertical-align: middle;\n",
       "    }\n",
       "\n",
       "    .dataframe tbody tr th {\n",
       "        vertical-align: top;\n",
       "    }\n",
       "\n",
       "    .dataframe thead th {\n",
       "        text-align: right;\n",
       "    }\n",
       "</style>\n",
       "<table border=\"1\" class=\"dataframe\">\n",
       "  <thead>\n",
       "    <tr style=\"text-align: right;\">\n",
       "      <th></th>\n",
       "      <th>origin_latitude</th>\n",
       "      <th>origin_longitude</th>\n",
       "      <th>destination_latitude</th>\n",
       "      <th>destination_longitude</th>\n",
       "      <th>weight</th>\n",
       "      <th>loading_meters</th>\n",
       "      <th>is_adr</th>\n",
       "      <th>cost</th>\n",
       "      <th>year</th>\n",
       "      <th>month</th>\n",
       "      <th>day</th>\n",
       "      <th>dayofweek</th>\n",
       "      <th>Distance</th>\n",
       "    </tr>\n",
       "  </thead>\n",
       "  <tbody>\n",
       "    <tr>\n",
       "      <th>0</th>\n",
       "      <td>27.22</td>\n",
       "      <td>105.59</td>\n",
       "      <td>26.91</td>\n",
       "      <td>108.67</td>\n",
       "      <td>0.51</td>\n",
       "      <td>0.20</td>\n",
       "      <td>1</td>\n",
       "      <td>0.25</td>\n",
       "      <td>2017</td>\n",
       "      <td>4</td>\n",
       "      <td>24</td>\n",
       "      <td>0</td>\n",
       "      <td>307,445.69</td>\n",
       "    </tr>\n",
       "    <tr>\n",
       "      <th>1</th>\n",
       "      <td>25.00</td>\n",
       "      <td>109.79</td>\n",
       "      <td>25.34</td>\n",
       "      <td>108.59</td>\n",
       "      <td>0.48</td>\n",
       "      <td>0.20</td>\n",
       "      <td>1</td>\n",
       "      <td>0.25</td>\n",
       "      <td>2017</td>\n",
       "      <td>7</td>\n",
       "      <td>27</td>\n",
       "      <td>3</td>\n",
       "      <td>126,699.74</td>\n",
       "    </tr>\n",
       "  </tbody>\n",
       "</table>\n",
       "</div>"
      ],
      "text/plain": [
       "   origin_latitude  origin_longitude  destination_latitude  \\\n",
       "0            27.22            105.59                 26.91   \n",
       "1            25.00            109.79                 25.34   \n",
       "\n",
       "   destination_longitude  weight  loading_meters  is_adr  cost  year  month  \\\n",
       "0                 108.67    0.51            0.20       1  0.25  2017      4   \n",
       "1                 108.59    0.48            0.20       1  0.25  2017      7   \n",
       "\n",
       "   day  dayofweek   Distance  \n",
       "0   24          0 307,445.69  \n",
       "1   27          3 126,699.74  "
      ]
     },
     "execution_count": 44,
     "metadata": {},
     "output_type": "execute_result"
    }
   ],
   "source": [
    "df2_train.head(2)"
   ]
  },
  {
   "cell_type": "markdown",
   "metadata": {},
   "source": [
    "**Feature Selection**"
   ]
  },
  {
   "cell_type": "markdown",
   "metadata": {},
   "source": [
    "As there is columns of year, month, day and day of the year,  the unnecessary columns timestamp and shipping data can be dropped."
   ]
  },
  {
   "cell_type": "code",
   "execution_count": 45,
   "metadata": {},
   "outputs": [],
   "source": [
    "#df2_train.drop([\"timestamp\", \"shipping_date\"], axis=1, inplace=True)"
   ]
  },
  {
   "cell_type": "code",
   "execution_count": 62,
   "metadata": {},
   "outputs": [],
   "source": [
    "df2_train.drop(['origin_latitude', 'origin_longitude', 'destination_latitude',\n",
    "       'destination_longitude',], axis=1, inplace=True)"
   ]
  },
  {
   "cell_type": "code",
   "execution_count": 63,
   "metadata": {},
   "outputs": [
    {
     "data": {
      "text/plain": [
       "Index(['weight', 'loading_meters', 'is_adr', 'cost', 'year', 'month', 'day',\n",
       "       'dayofweek', 'Distance'],\n",
       "      dtype='object')"
      ]
     },
     "execution_count": 63,
     "metadata": {},
     "output_type": "execute_result"
    }
   ],
   "source": [
    "df2_train.columns"
   ]
  },
  {
   "cell_type": "markdown",
   "metadata": {},
   "source": [
    "**Correlation heat map**\n",
    "\n",
    "Correlation heatmaps are used to find the relationships between variables and to understand the strength of these relationships. \n",
    "\n",
    "The correlation graph shows that there are longitude and lattitude varibles are correlated. And no other highly correlated variables found. So there is no highly correlated variable to eliminate for modeling."
   ]
  },
  {
   "cell_type": "code",
   "execution_count": 47,
   "metadata": {},
   "outputs": [],
   "source": [
    "# plt.figure(figsize=[24,20])\n",
    "# sns.heatmap(df2_train.corr(), annot=True, vmin=-1, vmax=1, center=0) #cmap='BuGn'\n",
    "# plt.show()"
   ]
  },
  {
   "cell_type": "markdown",
   "metadata": {},
   "source": [
    "### 6. Data Manipulation"
   ]
  },
  {
   "cell_type": "code",
   "execution_count": 64,
   "metadata": {},
   "outputs": [
    {
     "name": "stdout",
     "output_type": "stream",
     "text": [
      "Original dataset  --->  (250987, 8) (250987,) \n",
      "Training set  --->  (225888, 8) (225888,) \n",
      "Testing set   --->  (25099, 8)  (25099,)\n"
     ]
    }
   ],
   "source": [
    "#Splitting the data intro training & testing sets\n",
    "\n",
    "y = df2_train['cost']\n",
    "X = df2_train.drop('cost', axis=1)\n",
    "X_train, X_test, y_train, y_test = train_test_split(X, y, test_size=0.1, random_state=42)\n",
    "\n",
    "print('Original dataset  ---> ',X.shape,y.shape,'\\nTraining set  ---> ', X_train.shape,y_train.shape,\n",
    "'\\nTesting set   ---> ', X_test.shape,'', y_test.shape)"
   ]
  },
  {
   "cell_type": "markdown",
   "metadata": {},
   "source": [
    "**Feature Scaling (Standardization)**"
   ]
  },
  {
   "cell_type": "markdown",
   "metadata": {},
   "source": [
    "As the fields weight, loading_meters and cost have already normalized, these fields are avoided from scaling and normalization.\n",
    "So here the column \"Distance\" is normalised."
   ]
  },
  {
   "cell_type": "code",
   "execution_count": 65,
   "metadata": {},
   "outputs": [],
   "source": [
    "# Standardization using standard scalar\n",
    "col_scale = ['Distance']\n",
    "scaler = StandardScaler()\n",
    "\n",
    "X_train_scaled = scaler.fit_transform(X_train[col_scale])\n",
    "X_test_scaled = scaler.transform(X_test[col_scale])"
   ]
  },
  {
   "cell_type": "code",
   "execution_count": 66,
   "metadata": {},
   "outputs": [],
   "source": [
    "# Concatenating scaled and dummy columns \n",
    "X_train_preprocessed = np.concatenate([X_train_scaled, X_train.drop(col_scale, axis=1)], axis=1)\n",
    "X_test_preprocessed = np.concatenate([X_test_scaled, X_test.drop(col_scale, axis=1)], axis=1)"
   ]
  },
  {
   "cell_type": "code",
   "execution_count": 67,
   "metadata": {},
   "outputs": [
    {
     "name": "stdout",
     "output_type": "stream",
     "text": [
      "Original dataset  --->  (250987, 8) (250987,) \n",
      "Training set  --->  (225888, 8) (225888,) \n",
      "Testing set   --->  (25099, 8)  (25099,)\n"
     ]
    }
   ],
   "source": [
    "print('Original dataset  ---> ',X.shape,y.shape,'\\nTraining set  ---> ', X_train_preprocessed.shape,y_train.shape,\n",
    "'\\nTesting set   ---> ', X_test_preprocessed.shape,'', y_test.shape)"
   ]
  },
  {
   "cell_type": "markdown",
   "metadata": {},
   "source": [
    "### Evaluation Metric Selection"
   ]
  },
  {
   "cell_type": "markdown",
   "metadata": {},
   "source": [
    "Mean absolute error, Mean squared error are Root mean squared error selected as metrics for model evaluation."
   ]
  },
  {
   "cell_type": "markdown",
   "metadata": {},
   "source": [
    "### 7. Modelling"
   ]
  },
  {
   "cell_type": "markdown",
   "metadata": {},
   "source": [
    "In this modelling part, there are mainely 4 models are used. Base line model, Linear regression, Random Forest and Light Gradient Boosting Model (LGBM) models are used"
   ]
  },
  {
   "cell_type": "markdown",
   "metadata": {},
   "source": [
    "### Linear Regression model "
   ]
  },
  {
   "cell_type": "markdown",
   "metadata": {},
   "source": [
    "Multivariate Linear Regression Model"
   ]
  },
  {
   "cell_type": "code",
   "execution_count": 68,
   "metadata": {},
   "outputs": [],
   "source": [
    "from sklearn.linear_model import LinearRegression"
   ]
  },
  {
   "cell_type": "code",
   "execution_count": null,
   "metadata": {},
   "outputs": [],
   "source": []
  },
  {
   "cell_type": "code",
   "execution_count": 69,
   "metadata": {},
   "outputs": [
    {
     "data": {
      "text/plain": [
       "LinearRegression()"
      ]
     },
     "execution_count": 69,
     "metadata": {},
     "output_type": "execute_result"
    }
   ],
   "source": [
    "# Instantiate our model \n",
    "lin_reg = LinearRegression()\n",
    "\n",
    "# Train the model using our data\n",
    "lin_reg.fit(X_train_preprocessed, y_train)"
   ]
  },
  {
   "cell_type": "code",
   "execution_count": 70,
   "metadata": {},
   "outputs": [
    {
     "data": {
      "text/plain": [
       "-26.582939774450672"
      ]
     },
     "execution_count": 70,
     "metadata": {},
     "output_type": "execute_result"
    }
   ],
   "source": [
    "#intercept\n",
    "lin_reg.intercept_"
   ]
  },
  {
   "cell_type": "code",
   "execution_count": 71,
   "metadata": {},
   "outputs": [
    {
     "data": {
      "text/plain": [
       "array([ 1.01886241e-01,  3.93682425e-02, -6.79498518e-02,  5.55111512e-17,\n",
       "        1.33367129e-02,  2.24103303e-03,  3.04917763e-05,  6.70193562e-05])"
      ]
     },
     "execution_count": 71,
     "metadata": {},
     "output_type": "execute_result"
    }
   ],
   "source": [
    "# Coefficients\n",
    "lin_reg.coef_"
   ]
  },
  {
   "cell_type": "code",
   "execution_count": 72,
   "metadata": {},
   "outputs": [],
   "source": [
    "#Prediction\n",
    "y_pred = lin_reg.predict(X_test)"
   ]
  },
  {
   "cell_type": "code",
   "execution_count": 73,
   "metadata": {},
   "outputs": [
    {
     "name": "stdout",
     "output_type": "stream",
     "text": [
      "        Actual  Predicted\n",
      "240637    0.44      11.98\n",
      "150432    0.24      -5.18\n",
      "122857    0.50      18.29\n",
      "172406    0.28      -7.83\n",
      "218417    0.28      -1.89\n",
      "...        ...        ...\n",
      "43554     0.20     -16.69\n",
      "144181    0.33      -5.90\n",
      "167750    0.45       8.86\n",
      "62897     0.15     -20.40\n",
      "153623    0.33       1.23\n",
      "\n",
      "[25099 rows x 2 columns]\n"
     ]
    }
   ],
   "source": [
    "results_LR = pd.DataFrame({'Actual': y_test, 'Predicted': y_pred})\n",
    "print(results_LR)"
   ]
  },
  {
   "cell_type": "markdown",
   "metadata": {},
   "source": [
    "**Evaluating the Multivariate Model**\n"
   ]
  },
  {
   "cell_type": "code",
   "execution_count": 74,
   "metadata": {},
   "outputs": [
    {
     "name": "stdout",
     "output_type": "stream",
     "text": [
      "Mean absolute error: 10.36\n",
      "Mean squared error: 156.63\n",
      "Root mean squared error: 12.52\n"
     ]
    }
   ],
   "source": [
    "mae = mean_absolute_error(y_test, y_pred)\n",
    "mse = mean_squared_error(y_test, y_pred)\n",
    "rmse = np.sqrt(mse)\n",
    "\n",
    "print(f'Mean absolute error: {mae:.2f}')\n",
    "print(f'Mean squared error: {mse:.2f}')\n",
    "print(f'Root mean squared error: {rmse:.2f}')"
   ]
  },
  {
   "cell_type": "markdown",
   "metadata": {},
   "source": [
    "Here the MSE, MAE and RMSE show that the linear regression model did not fit."
   ]
  },
  {
   "cell_type": "code",
   "execution_count": 75,
   "metadata": {},
   "outputs": [
    {
     "data": {
      "text/html": [
       "<div>\n",
       "<style scoped>\n",
       "    .dataframe tbody tr th:only-of-type {\n",
       "        vertical-align: middle;\n",
       "    }\n",
       "\n",
       "    .dataframe tbody tr th {\n",
       "        vertical-align: top;\n",
       "    }\n",
       "\n",
       "    .dataframe thead th {\n",
       "        text-align: right;\n",
       "    }\n",
       "</style>\n",
       "<table border=\"1\" class=\"dataframe\">\n",
       "  <thead>\n",
       "    <tr style=\"text-align: right;\">\n",
       "      <th></th>\n",
       "      <th>Actual</th>\n",
       "      <th>Predicted</th>\n",
       "    </tr>\n",
       "  </thead>\n",
       "  <tbody>\n",
       "    <tr>\n",
       "      <th>count</th>\n",
       "      <td>25,099.00</td>\n",
       "      <td>25,099.00</td>\n",
       "    </tr>\n",
       "    <tr>\n",
       "      <th>mean</th>\n",
       "      <td>0.34</td>\n",
       "      <td>-1.73</td>\n",
       "    </tr>\n",
       "    <tr>\n",
       "      <th>std</th>\n",
       "      <td>0.13</td>\n",
       "      <td>12.44</td>\n",
       "    </tr>\n",
       "    <tr>\n",
       "      <th>min</th>\n",
       "      <td>0.04</td>\n",
       "      <td>-26.49</td>\n",
       "    </tr>\n",
       "    <tr>\n",
       "      <th>25%</th>\n",
       "      <td>0.25</td>\n",
       "      <td>-11.32</td>\n",
       "    </tr>\n",
       "    <tr>\n",
       "      <th>50%</th>\n",
       "      <td>0.33</td>\n",
       "      <td>-3.24</td>\n",
       "    </tr>\n",
       "    <tr>\n",
       "      <th>75%</th>\n",
       "      <td>0.41</td>\n",
       "      <td>6.42</td>\n",
       "    </tr>\n",
       "    <tr>\n",
       "      <th>max</th>\n",
       "      <td>1.00</td>\n",
       "      <td>44.39</td>\n",
       "    </tr>\n",
       "  </tbody>\n",
       "</table>\n",
       "</div>"
      ],
      "text/plain": [
       "         Actual  Predicted\n",
       "count 25,099.00  25,099.00\n",
       "mean       0.34      -1.73\n",
       "std        0.13      12.44\n",
       "min        0.04     -26.49\n",
       "25%        0.25     -11.32\n",
       "50%        0.33      -3.24\n",
       "75%        0.41       6.42\n",
       "max        1.00      44.39"
      ]
     },
     "execution_count": 75,
     "metadata": {},
     "output_type": "execute_result"
    }
   ],
   "source": [
    "results_LR.describe()"
   ]
  },
  {
   "cell_type": "markdown",
   "metadata": {},
   "source": [
    "The predicted \"cost\" using linear regression (from -24.79 to 432) are completely outside the range of values of “cost” seen in the training dataset which is (from approax 0.01 to 2.4). Since a Linear Regression model created a linear model on the data, it is able to obtain values outside the training set during prediction. It is able to generalize based on the data."
   ]
  },
  {
   "cell_type": "code",
   "execution_count": 76,
   "metadata": {},
   "outputs": [
    {
     "data": {
      "image/png": "[encoded data removed]",
      "text/plain": [
       "<Figure size 576x360 with 1 Axes>"
      ]
     },
     "metadata": {},
     "output_type": "display_data"
    }
   ],
   "source": [
    "fig, ax = plt.subplots()\n",
    "sns.scatterplot(x=results_LR['Actual'], y=results_LR['Predicted'] , data=results_LR, ax=ax)\n",
    "ax.set(title='Linear Regression- Predicted vs Actual');"
   ]
  },
  {
   "cell_type": "code",
   "execution_count": 61,
   "metadata": {},
   "outputs": [
    {
     "ename": "NameError",
     "evalue": "name 'dff' is not defined",
     "output_type": "error",
     "traceback": [
      "\u001b[0;31m---------------------------------------------------------------------------\u001b[0m",
      "\u001b[0;31mNameError\u001b[0m                                 Traceback (most recent call last)",
      "\u001b[1;32m/root/neuefische/Cost-Prediction/ML_Cost_Prediction.ipynb Cell 133\u001b[0m in \u001b[0;36m<cell line: 1>\u001b[0;34m()\u001b[0m\n\u001b[0;32m----> <a href='vscode-notebook-cell://wsl%2Bubuntu/root/neuefische/Cost-Prediction/ML_Cost_Prediction.ipynb#Y355sdnNjb2RlLXJlbW90ZQ%3D%3D?line=0'>1</a>\u001b[0m dff\n",
      "\u001b[0;31mNameError\u001b[0m: name 'dff' is not defined"
     ]
    }
   ],
   "source": [
    "dff"
   ]
  },
  {
   "cell_type": "markdown",
   "metadata": {},
   "source": [
    "### Random Forest (RF)"
   ]
  },
  {
   "cell_type": "markdown",
   "metadata": {},
   "source": [
    "RF can perform both regression and classification tasks. \n",
    "RF can handle large datasets efficiently and it provides a higher level of accuracy in predicting outcomes over the decision tree algorithm."
   ]
  },
  {
   "cell_type": "code",
   "execution_count": 77,
   "metadata": {},
   "outputs": [
    {
     "name": "stderr",
     "output_type": "stream",
     "text": [
      "[Parallel(n_jobs=-1)]: Using backend ThreadingBackend with 4 concurrent workers.\n",
      "[Parallel(n_jobs=-1)]: Done  42 tasks      | elapsed:   15.1s\n",
      "[Parallel(n_jobs=-1)]: Done 192 tasks      | elapsed:  1.2min\n",
      "[Parallel(n_jobs=-1)]: Done 442 tasks      | elapsed:  2.7min\n",
      "[Parallel(n_jobs=-1)]: Done 500 out of 500 | elapsed:  3.0min finished\n",
      "[Parallel(n_jobs=4)]: Using backend ThreadingBackend with 4 concurrent workers.\n",
      "[Parallel(n_jobs=4)]: Done  42 tasks      | elapsed:    3.0s\n",
      "[Parallel(n_jobs=4)]: Done 192 tasks      | elapsed:    9.6s\n",
      "[Parallel(n_jobs=4)]: Done 442 tasks      | elapsed:   19.2s\n",
      "[Parallel(n_jobs=4)]: Done 500 out of 500 | elapsed:   21.5s finished\n"
     ]
    },
    {
     "data": {
      "text/plain": [
       "0.971073467191858"
      ]
     },
     "execution_count": 77,
     "metadata": {},
     "output_type": "execute_result"
    }
   ],
   "source": [
    "from sklearn.ensemble import RandomForestRegressor\n",
    "regr = RandomForestRegressor(n_jobs = -1, random_state = 42, n_estimators = 500, verbose = 1)\n",
    "regr.fit(X_train_preprocessed, y_train)\n",
    "regr.score(X_train_preprocessed, y_train)"
   ]
  },
  {
   "cell_type": "code",
   "execution_count": 78,
   "metadata": {},
   "outputs": [
    {
     "name": "stderr",
     "output_type": "stream",
     "text": [
      "[Parallel(n_jobs=4)]: Using backend ThreadingBackend with 4 concurrent workers.\n",
      "[Parallel(n_jobs=4)]: Done  42 tasks      | elapsed:    0.0s\n",
      "[Parallel(n_jobs=4)]: Done 192 tasks      | elapsed:    0.2s\n",
      "[Parallel(n_jobs=4)]: Done 442 tasks      | elapsed:    0.5s\n",
      "[Parallel(n_jobs=4)]: Done 500 out of 500 | elapsed:    0.6s finished\n"
     ]
    }
   ],
   "source": [
    "#from sklearn import metrics\n",
    "pred1 = regr.predict(X_test) "
   ]
  },
  {
   "cell_type": "code",
   "execution_count": 79,
   "metadata": {},
   "outputs": [
    {
     "name": "stdout",
     "output_type": "stream",
     "text": [
      "Mean absolute error: 0.14\n",
      "Mean squared error: 0.03\n",
      "Root mean squared error: 0.16\n"
     ]
    }
   ],
   "source": [
    "mae = mean_absolute_error(y_test, pred1)\n",
    "mse = mean_squared_error(y_test, pred1)\n",
    "rmse = np.sqrt(mse)\n",
    "\n",
    "print(f'Mean absolute error: {mae:.2f}')\n",
    "print(f'Mean squared error: {mse:.2f}')\n",
    "print(f'Root mean squared error: {rmse:.2f}')"
   ]
  },
  {
   "cell_type": "code",
   "execution_count": 80,
   "metadata": {},
   "outputs": [
    {
     "name": "stdout",
     "output_type": "stream",
     "text": [
      "        Actual  Predicted\n",
      "240637    0.44       0.44\n",
      "150432    0.24       0.40\n",
      "122857    0.50       0.47\n",
      "172406    0.28       0.48\n",
      "218417    0.28       0.42\n",
      "...        ...        ...\n",
      "43554     0.20       0.47\n",
      "144181    0.33       0.47\n",
      "167750    0.45       0.46\n",
      "62897     0.15       0.36\n",
      "153623    0.33       0.47\n",
      "\n",
      "[25099 rows x 2 columns]\n"
     ]
    }
   ],
   "source": [
    "results_RF = pd.DataFrame({'Actual': y_test, 'Predicted': pred1})\n",
    "print(results_RF)"
   ]
  },
  {
   "cell_type": "markdown",
   "metadata": {},
   "source": [
    "The results obtained from RF shows that it performs better than the linear regression. The evaluation matric have the values Mean absolute error: 0.81\n",
    "Mean squared error: 0.67 and Root mean squared error: 0.82."
   ]
  },
  {
   "cell_type": "code",
   "execution_count": 81,
   "metadata": {},
   "outputs": [
    {
     "data": {
      "text/html": [
       "<div>\n",
       "<style scoped>\n",
       "    .dataframe tbody tr th:only-of-type {\n",
       "        vertical-align: middle;\n",
       "    }\n",
       "\n",
       "    .dataframe tbody tr th {\n",
       "        vertical-align: top;\n",
       "    }\n",
       "\n",
       "    .dataframe thead th {\n",
       "        text-align: right;\n",
       "    }\n",
       "</style>\n",
       "<table border=\"1\" class=\"dataframe\">\n",
       "  <thead>\n",
       "    <tr style=\"text-align: right;\">\n",
       "      <th></th>\n",
       "      <th>Actual</th>\n",
       "      <th>Predicted</th>\n",
       "    </tr>\n",
       "  </thead>\n",
       "  <tbody>\n",
       "    <tr>\n",
       "      <th>count</th>\n",
       "      <td>25,099.00</td>\n",
       "      <td>25,099.00</td>\n",
       "    </tr>\n",
       "    <tr>\n",
       "      <th>mean</th>\n",
       "      <td>0.34</td>\n",
       "      <td>0.43</td>\n",
       "    </tr>\n",
       "    <tr>\n",
       "      <th>std</th>\n",
       "      <td>0.13</td>\n",
       "      <td>0.05</td>\n",
       "    </tr>\n",
       "    <tr>\n",
       "      <th>min</th>\n",
       "      <td>0.04</td>\n",
       "      <td>0.32</td>\n",
       "    </tr>\n",
       "    <tr>\n",
       "      <th>25%</th>\n",
       "      <td>0.25</td>\n",
       "      <td>0.40</td>\n",
       "    </tr>\n",
       "    <tr>\n",
       "      <th>50%</th>\n",
       "      <td>0.33</td>\n",
       "      <td>0.45</td>\n",
       "    </tr>\n",
       "    <tr>\n",
       "      <th>75%</th>\n",
       "      <td>0.41</td>\n",
       "      <td>0.47</td>\n",
       "    </tr>\n",
       "    <tr>\n",
       "      <th>max</th>\n",
       "      <td>1.00</td>\n",
       "      <td>0.54</td>\n",
       "    </tr>\n",
       "  </tbody>\n",
       "</table>\n",
       "</div>"
      ],
      "text/plain": [
       "         Actual  Predicted\n",
       "count 25,099.00  25,099.00\n",
       "mean       0.34       0.43\n",
       "std        0.13       0.05\n",
       "min        0.04       0.32\n",
       "25%        0.25       0.40\n",
       "50%        0.33       0.45\n",
       "75%        0.41       0.47\n",
       "max        1.00       0.54"
      ]
     },
     "execution_count": 81,
     "metadata": {},
     "output_type": "execute_result"
    }
   ],
   "source": [
    "results_RF.describe()"
   ]
  },
  {
   "cell_type": "markdown",
   "metadata": {},
   "source": [
    "Random forest predicts an average of the values. "
   ]
  },
  {
   "cell_type": "code",
   "execution_count": 82,
   "metadata": {},
   "outputs": [
    {
     "data": {
      "image/png": "[encoded data removed]",
      "text/plain": [
       "<Figure size 576x360 with 1 Axes>"
      ]
     },
     "metadata": {},
     "output_type": "display_data"
    }
   ],
   "source": [
    "fig, ax = plt.subplots()\n",
    "sns.scatterplot(x=results_RF['Actual'], y=results_RF['Predicted'] , data=results_RF, ax=ax)\n",
    "ax.set(title='Random Forest- Predicted vs Actual');"
   ]
  },
  {
   "cell_type": "markdown",
   "metadata": {},
   "source": [
    "### Light Gradient Boosting Machine (LGBM)"
   ]
  },
  {
   "cell_type": "markdown",
   "metadata": {},
   "source": [
    "Light Gradient Boosted Machine, is an open-source library that provides an efficient and effective implementation of the gradient boosting algorithm.\n",
    "It extends the gradient boosting algorithm by adding an automatic feature selection and focusing on boosting examples with larger gradients. This can result in a dramatic speedup of training and improved predictive performance."
   ]
  },
  {
   "cell_type": "code",
   "execution_count": 83,
   "metadata": {},
   "outputs": [],
   "source": [
    "import lightgbm as ltb"
   ]
  },
  {
   "cell_type": "code",
   "execution_count": 84,
   "metadata": {},
   "outputs": [
    {
     "name": "stdout",
     "output_type": "stream",
     "text": [
      "\n",
      "LGBMRegressor()\n"
     ]
    }
   ],
   "source": [
    "model = ltb.LGBMRegressor()\n",
    "model.fit(X_train_preprocessed, y_train)\n",
    "print(); print(model)"
   ]
  },
  {
   "cell_type": "code",
   "execution_count": 85,
   "metadata": {},
   "outputs": [],
   "source": [
    "# Prediction\n",
    "expected_y  = y_test\n",
    "predicted_y = model.predict(X_test)"
   ]
  },
  {
   "cell_type": "code",
   "execution_count": 86,
   "metadata": {},
   "outputs": [
    {
     "name": "stdout",
     "output_type": "stream",
     "text": [
      "Mean absolute error: 0.14\n",
      "Mean squared error: 0.03\n",
      "Root mean squared error: 0.16\n"
     ]
    }
   ],
   "source": [
    "# Evaluation\n",
    "mae = mean_absolute_error(y_test, predicted_y)\n",
    "mse = mean_squared_error(y_test, predicted_y)\n",
    "rmse = np.sqrt(mse)\n",
    "\n",
    "print(f'Mean absolute error: {mae:.2f}')\n",
    "print(f'Mean squared error: {mse:.2f}')\n",
    "print(f'Root mean squared error: {rmse:.2f}')"
   ]
  },
  {
   "cell_type": "code",
   "execution_count": 87,
   "metadata": {},
   "outputs": [
    {
     "name": "stdout",
     "output_type": "stream",
     "text": [
      "        Actual  Predicted\n",
      "240637    0.44       0.46\n",
      "150432    0.24       0.39\n",
      "122857    0.50       0.47\n",
      "172406    0.28       0.47\n",
      "218417    0.28       0.44\n",
      "...        ...        ...\n",
      "43554     0.20       0.47\n",
      "144181    0.33       0.46\n",
      "167750    0.45       0.47\n",
      "62897     0.15       0.43\n",
      "153623    0.33       0.47\n",
      "\n",
      "[25099 rows x 2 columns]\n"
     ]
    }
   ],
   "source": [
    "results_LGBM = pd.DataFrame({'Actual': y_test, 'Predicted': predicted_y})\n",
    "print(results_LGBM)"
   ]
  },
  {
   "cell_type": "markdown",
   "metadata": {},
   "source": [
    "LGBM performed very well and the evaluation metric values are Mean absolute error: 0.34, Mean squared error: 0.13 and Root mean squared error: 0.36"
   ]
  },
  {
   "cell_type": "code",
   "execution_count": 88,
   "metadata": {},
   "outputs": [
    {
     "data": {
      "text/html": [
       "<div>\n",
       "<style scoped>\n",
       "    .dataframe tbody tr th:only-of-type {\n",
       "        vertical-align: middle;\n",
       "    }\n",
       "\n",
       "    .dataframe tbody tr th {\n",
       "        vertical-align: top;\n",
       "    }\n",
       "\n",
       "    .dataframe thead th {\n",
       "        text-align: right;\n",
       "    }\n",
       "</style>\n",
       "<table border=\"1\" class=\"dataframe\">\n",
       "  <thead>\n",
       "    <tr style=\"text-align: right;\">\n",
       "      <th></th>\n",
       "      <th>Actual</th>\n",
       "      <th>Predicted</th>\n",
       "    </tr>\n",
       "  </thead>\n",
       "  <tbody>\n",
       "    <tr>\n",
       "      <th>count</th>\n",
       "      <td>25,099.00</td>\n",
       "      <td>25,099.00</td>\n",
       "    </tr>\n",
       "    <tr>\n",
       "      <th>mean</th>\n",
       "      <td>0.34</td>\n",
       "      <td>0.44</td>\n",
       "    </tr>\n",
       "    <tr>\n",
       "      <th>std</th>\n",
       "      <td>0.13</td>\n",
       "      <td>0.03</td>\n",
       "    </tr>\n",
       "    <tr>\n",
       "      <th>min</th>\n",
       "      <td>0.04</td>\n",
       "      <td>0.33</td>\n",
       "    </tr>\n",
       "    <tr>\n",
       "      <th>25%</th>\n",
       "      <td>0.25</td>\n",
       "      <td>0.42</td>\n",
       "    </tr>\n",
       "    <tr>\n",
       "      <th>50%</th>\n",
       "      <td>0.33</td>\n",
       "      <td>0.46</td>\n",
       "    </tr>\n",
       "    <tr>\n",
       "      <th>75%</th>\n",
       "      <td>0.41</td>\n",
       "      <td>0.47</td>\n",
       "    </tr>\n",
       "    <tr>\n",
       "      <th>max</th>\n",
       "      <td>1.00</td>\n",
       "      <td>0.49</td>\n",
       "    </tr>\n",
       "  </tbody>\n",
       "</table>\n",
       "</div>"
      ],
      "text/plain": [
       "         Actual  Predicted\n",
       "count 25,099.00  25,099.00\n",
       "mean       0.34       0.44\n",
       "std        0.13       0.03\n",
       "min        0.04       0.33\n",
       "25%        0.25       0.42\n",
       "50%        0.33       0.46\n",
       "75%        0.41       0.47\n",
       "max        1.00       0.49"
      ]
     },
     "execution_count": 88,
     "metadata": {},
     "output_type": "execute_result"
    }
   ],
   "source": [
    "results_LGBM.describe()"
   ]
  },
  {
   "cell_type": "code",
   "execution_count": 89,
   "metadata": {},
   "outputs": [
    {
     "data": {
      "image/png": "[encoded data removed]",
      "text/plain": [
       "<Figure size 576x360 with 1 Axes>"
      ]
     },
     "metadata": {},
     "output_type": "display_data"
    }
   ],
   "source": [
    "fig, ax = plt.subplots()\n",
    "sns.scatterplot(x=results_LGBM['Actual'], y=results_LGBM['Predicted'] , data=results_LGBM, ax=ax)\n",
    "ax.set(title='LGBM- Predicted vs Actual');"
   ]
  },
  {
   "cell_type": "markdown",
   "metadata": {},
   "source": [
    "### 8. Model Selection"
   ]
  },
  {
   "cell_type": "markdown",
   "metadata": {},
   "source": [
    "From the modelling results it is clear that LGBM works better than the linear model and random forest algorithms. So further future prediction for the test data given will be done using LGBM. "
   ]
  },
  {
   "cell_type": "markdown",
   "metadata": {},
   "source": [
    "### 9. Preprocessing of the given test data "
   ]
  },
  {
   "cell_type": "markdown",
   "metadata": {},
   "source": [
    "Preprocessing of the test data is done in a similar way of train data. "
   ]
  },
  {
   "cell_type": "code",
   "execution_count": null,
   "metadata": {},
   "outputs": [],
   "source": [
    "# Reading the data\n",
    "df_test = pd.read_csv(\"data/test_data.csv\", sep = \";\")"
   ]
  },
  {
   "cell_type": "code",
   "execution_count": null,
   "metadata": {},
   "outputs": [],
   "source": [
    "df_test.head(10)"
   ]
  },
  {
   "cell_type": "code",
   "execution_count": null,
   "metadata": {},
   "outputs": [
    {
     "data": {
      "text/plain": [
       "(62789, 8)"
      ]
     },
     "execution_count": 59,
     "metadata": {},
     "output_type": "execute_result"
    }
   ],
   "source": [
    "#Checking for how many rows and columns\n",
    "df_test.shape"
   ]
  },
  {
   "cell_type": "code",
   "execution_count": null,
   "metadata": {},
   "outputs": [
    {
     "data": {
      "text/plain": [
       "Index(['origin_latitude', 'origin_longitude', 'destination_latitude',\n",
       "       'destination_longitude', 'weight', 'loading_meters', 'is_adr',\n",
       "       'shipping_date'],\n",
       "      dtype='object')"
      ]
     },
     "execution_count": 60,
     "metadata": {},
     "output_type": "execute_result"
    }
   ],
   "source": [
    "#Checking for the column names\n",
    "df_test.columns"
   ]
  },
  {
   "cell_type": "code",
   "execution_count": null,
   "metadata": {},
   "outputs": [],
   "source": [
    "#Checking for null values in each column\n",
    "df_test.isnull().sum()"
   ]
  },
  {
   "cell_type": "code",
   "execution_count": null,
   "metadata": {},
   "outputs": [],
   "source": [
    "# Checking for type of data present in the dataframe\n",
    "df_test.info()"
   ]
  },
  {
   "cell_type": "markdown",
   "metadata": {},
   "source": [
    "The variable names \"is_adr\" is boolean typeS"
   ]
  },
  {
   "cell_type": "code",
   "execution_count": null,
   "metadata": {},
   "outputs": [],
   "source": [
    "# Checking for unique values\n",
    "df_test.nunique()"
   ]
  },
  {
   "cell_type": "code",
   "execution_count": null,
   "metadata": {},
   "outputs": [],
   "source": [
    "# Finding the descriptive statistics\n",
    "df_test.describe()"
   ]
  },
  {
   "cell_type": "code",
   "execution_count": null,
   "metadata": {},
   "outputs": [],
   "source": [
    "# Changing the variable \"is_adr\" from boolean to integer\n",
    "df_test[\"is_adr\"] = df_test[\"is_adr\"].astype(int)"
   ]
  },
  {
   "cell_type": "code",
   "execution_count": null,
   "metadata": {},
   "outputs": [],
   "source": [
    "#Changing the type of shipping date from object to datetime \n",
    "df_test['shipping_date'] = pd.to_datetime(df_test['shipping_date'], format='%Y-%m-%d')"
   ]
  },
  {
   "cell_type": "code",
   "execution_count": null,
   "metadata": {},
   "outputs": [],
   "source": [
    "# Extracting Year, month, day and day of year from the shipping date column\n",
    "df_test = df_test.assign(\n",
    "    timestamp = lambda x: pd.to_datetime(x['shipping_date']), \n",
    "    year = lambda x: x['timestamp'].dt.year,\n",
    "    month = lambda x: x['timestamp'].dt.month,\n",
    "    day = lambda x: x['timestamp'].dt.day,\n",
    "    dayofweek = lambda x: x['shipping_date'].dt.dayofweek\n",
    ")"
   ]
  },
  {
   "cell_type": "markdown",
   "metadata": {},
   "source": [
    "Making a column of distance from the difference between the origin of the shipment and destination of the shipment."
   ]
  },
  {
   "cell_type": "code",
   "execution_count": null,
   "metadata": {},
   "outputs": [],
   "source": [
    "df_test['Distance']=[round(geopy.distance.distance((df_test.origin_latitude[i], df_test.origin_longitude[i]),(df_test.destination_latitude[i], df_test.destination_longitude[i])).m,2) for i in df_test.index]"
   ]
  },
  {
   "cell_type": "code",
   "execution_count": null,
   "metadata": {},
   "outputs": [],
   "source": [
    "df_test.head(2)"
   ]
  },
  {
   "cell_type": "code",
   "execution_count": null,
   "metadata": {},
   "outputs": [],
   "source": [
    "# Dropping the columns \"timestamp\", \"shipping_date\" from the dataframe\n",
    "df_test.drop([\"timestamp\", \"shipping_date\"], axis=1, inplace=True)"
   ]
  },
  {
   "cell_type": "code",
   "execution_count": null,
   "metadata": {},
   "outputs": [
    {
     "data": {
      "text/plain": [
       "Index(['origin_latitude', 'origin_longitude', 'destination_latitude',\n",
       "       'destination_longitude', 'weight', 'loading_meters', 'is_adr', 'year',\n",
       "       'month', 'day', 'dayofweek', 'Distance'],\n",
       "      dtype='object')"
      ]
     },
     "execution_count": 71,
     "metadata": {},
     "output_type": "execute_result"
    }
   ],
   "source": [
    "df_test.columns"
   ]
  },
  {
   "cell_type": "markdown",
   "metadata": {},
   "source": [
    "**Data Manipulation**"
   ]
  },
  {
   "cell_type": "code",
   "execution_count": null,
   "metadata": {},
   "outputs": [],
   "source": [
    "#Scaling\n",
    "std = StandardScaler()\n",
    "col_scale = ['Distance']"
   ]
  },
  {
   "cell_type": "code",
   "execution_count": null,
   "metadata": {},
   "outputs": [],
   "source": [
    "scaler = StandardScaler()\n",
    "X_train_scaled = scaler.fit_transform(X_train[col_scale])\n",
    "df_test_scaled = scaler.transform(df_test[col_scale])"
   ]
  },
  {
   "cell_type": "code",
   "execution_count": null,
   "metadata": {},
   "outputs": [],
   "source": [
    "# Concatenating scaled and dummy columns \n",
    "X_train_preprocessed = np.concatenate([X_train_scaled, X_train.drop(col_scale, axis=1)], axis=1)\n",
    "df_test_preprocessed = np.concatenate([df_test_scaled, df_test.drop(col_scale, axis=1)], axis=1)"
   ]
  },
  {
   "cell_type": "markdown",
   "metadata": {},
   "source": [
    "### 10. The prediction of the test data using LGBM"
   ]
  },
  {
   "cell_type": "markdown",
   "metadata": {},
   "source": [
    "The prediction of the test data is done by using LGBM algorithm and the results were saved as a CSV file.\n",
    "\n"
   ]
  },
  {
   "cell_type": "code",
   "execution_count": null,
   "metadata": {},
   "outputs": [
    {
     "name": "stdout",
     "output_type": "stream",
     "text": [
      "\n",
      "LGBMRegressor()\n"
     ]
    }
   ],
   "source": [
    "model = ltb.LGBMRegressor()\n",
    "model.fit(X_train_preprocessed, y_train)\n",
    "print(); print(model)"
   ]
  },
  {
   "cell_type": "code",
   "execution_count": null,
   "metadata": {},
   "outputs": [],
   "source": [
    "\n",
    "predicted_y = model.predict(df_test)"
   ]
  },
  {
   "cell_type": "code",
   "execution_count": null,
   "metadata": {},
   "outputs": [
    {
     "name": "stdout",
     "output_type": "stream",
     "text": [
      "       Predicted\n",
      "0           0.62\n",
      "1           0.62\n",
      "2           0.62\n",
      "3           0.62\n",
      "4           0.62\n",
      "...          ...\n",
      "62784       0.71\n",
      "62785       0.71\n",
      "62786       0.71\n",
      "62787       0.71\n",
      "62788       0.71\n",
      "\n",
      "[62789 rows x 1 columns]\n"
     ]
    }
   ],
   "source": [
    "results = pd.DataFrame({'Predicted': predicted_y}) \n",
    "print(results)"
   ]
  },
  {
   "cell_type": "code",
   "execution_count": null,
   "metadata": {},
   "outputs": [],
   "source": [
    "results.to_csv(\"data/Predicted_test_results_LGBM.csv\")"
   ]
  },
  {
   "cell_type": "markdown",
   "metadata": {},
   "source": [
    "### 11. Summary"
   ]
  },
  {
   "cell_type": "markdown",
   "metadata": {},
   "source": [
    "The land transport shipment price of order at DB Schenker was predicted in this project. From the analysis of the training data obtained, it was shown that the data of place of shipment and the delivary of the shipment were in China. The training data was from 2017 till 2019. The data was cleaned and analysed. Some preprocessing steps like scaling, feature selection are done before starting the modeling. The models used for training data are Linear regression, random forest and LGBM. The most well performed model was LGBM and it has matric values of MAE: 0.34, MSE: 0.13 and RMSE: 0.36. Finally LGBM was used for the prediction of test data given and the results are saved."
   ]
  },
  {
   "cell_type": "markdown",
   "metadata": {},
   "source": [
    "### 12. Outlook"
   ]
  },
  {
   "cell_type": "markdown",
   "metadata": {},
   "source": [
    "The modelling can be further continued using other algorithms like\n",
    "\n",
    "Random Forest with gridsearch CV, Polynomial regression, Lasso regression, KNeighborsRegressor, time series models etc"
   ]
  }
 ],
 "metadata": {
  "kernelspec": {
   "display_name": "Python 3.9.4 ('.venv': venv)",
   "language": "python",
   "name": "python3"
  },
  "language_info": {
   "codemirror_mode": {
    "name": "ipython",
    "version": 3
   },
   "file_extension": ".py",
   "mimetype": "text/x-python",
   "name": "python",
   "nbconvert_exporter": "python",
   "pygments_lexer": "ipython3",
   "version": "3.9.4"
  },
  "orig_nbformat": 4,
  "vscode": {
   "interpreter": {
    "hash": "ced38681e31dbbe7e5a95ce067b869e061e9d596f62e9509026c647517a5f6a5"
   }
  }
 },
 "nbformat": 4,
 "nbformat_minor": 2
}
